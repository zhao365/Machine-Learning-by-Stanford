{
 "cells": [
  {
   "cell_type": "markdown",
   "metadata": {},
   "source": [
    "# Logistic Regression\n",
    "\n",
    "In this project, we will build a logistic regression model to predict whether a student gets admitted into a university. The data is from previous applicants, and for each training example, we have the applicant's scores\n",
    "on two exams and the admissions decision. Our task is to build a classification model that estimates an applicant's probability of admission based the scores from those two exams.\n",
    "\n",
    "We will write functions to\n",
    "\n",
    "- compute sigmoid and cost functions,\n",
    "- learning parameters using fmin_bfgs in scipy.optimize library,\n",
    "- generate plots to visulaize data and how logistic regression works."
   ]
  },
  {
   "cell_type": "code",
   "execution_count": 1,
   "metadata": {},
   "outputs": [],
   "source": [
    "import numpy as np\n",
    "import matplotlib.pyplot as plt\n",
    "%matplotlib inline"
   ]
  },
  {
   "cell_type": "code",
   "execution_count": 2,
   "metadata": {},
   "outputs": [],
   "source": [
    "from scipy.optimize import fmin_bfgs"
   ]
  },
  {
   "cell_type": "markdown",
   "metadata": {},
   "source": [
    "## Load and Plot Data"
   ]
  },
  {
   "cell_type": "code",
   "execution_count": 3,
   "metadata": {},
   "outputs": [],
   "source": [
    "# load data\n",
    "data = np.loadtxt('ex2data1.txt', delimiter=',')\n",
    "X = data[:, 0:2]\n",
    "y = data[:, 2]"
   ]
  },
  {
   "cell_type": "code",
   "execution_count": 4,
   "metadata": {},
   "outputs": [],
   "source": [
    "# PlotData plots data points with + for positive examples and o for negative examples\n",
    "def PlotData(X,y):\n",
    "    pos_index = np.where(y==1)[0]\n",
    "    neg_index = np.where(y==0)[0]\n",
    "    plt.plot(X[pos_index,0],X[pos_index,1],'k+')\n",
    "    plt.plot(X[neg_index,0],X[neg_index,1],'yo')\n",
    "    plt.xlabel('Exam 1 score')\n",
    "    plt.ylabel('Exam 2 score')\n",
    "    plt.legend(['Admitted','Not admitted'], loc = 1)\n",
    "    plt.show()"
   ]
  },
  {
   "cell_type": "code",
   "execution_count": 5,
   "metadata": {},
   "outputs": [
    {
     "data": {
      "image/png": "[encoded data removed]",
      "text/plain": [
       "<Figure size 432x288 with 1 Axes>"
      ]
     },
     "metadata": {
      "needs_background": "light"
     },
     "output_type": "display_data"
    }
   ],
   "source": [
    "# plot data\n",
    "PlotData(X,y)"
   ]
  },
  {
   "cell_type": "markdown",
   "metadata": {},
   "source": [
    "## Compute Cost and Gradient"
   ]
  },
  {
   "cell_type": "code",
   "execution_count": 6,
   "metadata": {},
   "outputs": [],
   "source": [
    "# compute sigmoid of a variable\n",
    "def sigmoid(z):\n",
    "    g = 1./(1.+np.exp(-z))\n",
    "    return g"
   ]
  },
  {
   "cell_type": "code",
   "execution_count": 7,
   "metadata": {},
   "outputs": [],
   "source": [
    "# costFunction compute cost and gradient for logistic regression\n",
    "def costFunction(theta, X, y):\n",
    "    m = len(y)\n",
    "    h = sigmoid(np.dot(X,theta))\n",
    "    J = -np.dot(y.transpose(),np.log(h)) - np.dot((1-y).transpose(), np.log(1-h))\n",
    "    J = J/m\n",
    "    grad = np.dot(X.transpose(), h-y)\n",
    "    grad = grad/m\n",
    "    return J, grad"
   ]
  },
  {
   "cell_type": "code",
   "execution_count": 8,
   "metadata": {},
   "outputs": [],
   "source": [
    "# Add a column of ones to x\n",
    "m = len(y)\n",
    "X_withones = np.append(np.ones([m,1]), X, 1)\n",
    "# initial theta\n",
    "theta_0 = np.array([0,0,0])"
   ]
  },
  {
   "cell_type": "code",
   "execution_count": 9,
   "metadata": {},
   "outputs": [],
   "source": [
    "# compute initial cost and gradient\n",
    "J, grad = costFunction(theta_0, X_withones,y)"
   ]
  },
  {
   "cell_type": "code",
   "execution_count": 10,
   "metadata": {},
   "outputs": [
    {
     "name": "stdout",
     "output_type": "stream",
     "text": [
      "initial theta is : \n",
      "[0 0 0]\n",
      "cost at initial theta: \n",
      "0.69314718056\n",
      "gradient at initial theta: \n",
      "[ -0.1        -12.00921659 -11.26284221]\n"
     ]
    }
   ],
   "source": [
    "# display result\n",
    "print(\"initial theta is : \\n{}\".format(theta_0))\n",
    "print('cost at initial theta: \\n{}'.format(J))\n",
    "print(\"gradient at initial theta: \\n{}\".format(grad))"
   ]
  },
  {
   "cell_type": "markdown",
   "metadata": {},
   "source": [
    "## Optimizing using fmin_bfgs"
   ]
  },
  {
   "cell_type": "code",
   "execution_count": 11,
   "metadata": {},
   "outputs": [],
   "source": [
    "# cost function is the objective function passing to fmin_bfgs and get minimized.\n",
    "def cost(theta, X, y):\n",
    "    m = len(y)\n",
    "    J = 0\n",
    "    h = sigmoid(np.dot(X,theta))\n",
    "    J = -np.dot(y.transpose(),np.log(h)) - np.dot((1-y).transpose(), np.log(1-h))\n",
    "    J = J/m\n",
    "    return J"
   ]
  },
  {
   "cell_type": "code",
   "execution_count": 12,
   "metadata": {},
   "outputs": [],
   "source": [
    "# gradient function is the gradient of objective function we'll pass to fmin_bfgs \n",
    "def gradient(theta, X, y):\n",
    "    grad = np.zeros([len(theta),1])\n",
    "    h = sigmoid(np.dot(X,theta))\n",
    "    grad = np.dot(X.transpose(), h-y)\n",
    "    grad = grad/m\n",
    "    return grad"
   ]
  },
  {
   "cell_type": "code",
   "execution_count": 13,
   "metadata": {},
   "outputs": [
    {
     "name": "stdout",
     "output_type": "stream",
     "text": [
      "Optimization terminated successfully.\n",
      "         Current function value: 0.203498\n",
      "         Iterations: 23\n",
      "         Function evaluations: 31\n",
      "         Gradient evaluations: 31\n"
     ]
    },
    {
     "name": "stderr",
     "output_type": "stream",
     "text": [
      "C:\\Users\\xyguo\\Anaconda2\\lib\\site-packages\\ipykernel_launcher.py:6: RuntimeWarning: divide by zero encountered in log\n",
      "  \n"
     ]
    }
   ],
   "source": [
    "# run fmin_bfgs to obtain the optimal theta\n",
    "theta_opt = fmin_bfgs(cost, theta_0, fprime=gradient,args=(X_withones,y))"
   ]
  },
  {
   "cell_type": "code",
   "execution_count": 14,
   "metadata": {},
   "outputs": [
    {
     "name": "stdout",
     "output_type": "stream",
     "text": [
      "optimal theta to minimize cost is: \n",
      "[-25.16133284   0.2062317    0.2014716 ]\n",
      "cost at theta found by fmin_bfgs is: \n",
      "0.203497701589\n"
     ]
    }
   ],
   "source": [
    "# display results\n",
    "print(\"optimal theta to minimize cost is: \\n{}\".format(theta_opt))\n",
    "print(\"cost at theta found by fmin_bfgs is: \\n{}\".format(cost(theta_opt, X_withones, y)))"
   ]
  },
  {
   "cell_type": "code",
   "execution_count": 15,
   "metadata": {},
   "outputs": [],
   "source": [
    "# PlotDecisionBoundary plots the data points X and Y with the decision boundary defined by theta\n",
    "def PlotDecisionBoundary(theta, X, y):\n",
    "    pos_index = np.where(y==1)[0]\n",
    "    neg_index = np.where(y==0)[0]\n",
    "    plt.plot(X[pos_index,1],X[pos_index,2],'k+')\n",
    "    plt.plot(X[neg_index,1],X[neg_index,2],'yo')\n",
    "    plot_x = np.array([min(X[:,1])-2, max(X[:,1])+2])\n",
    "    plot_y = (-1./theta_opt[2])*(theta_opt[1]*plot_x + theta_opt[0])\n",
    "    plt.plot(plot_x, plot_y)\n",
    "    plt.xlabel('Exam 1 score')\n",
    "    plt.ylabel('Exam 2 score')\n",
    "    plt.legend(['Admitted','Not admitted','Decision Boundary'], loc = 1)\n",
    "    plt.xlim([30,100])\n",
    "    plt.ylim([30,100])\n",
    "    plt.show()"
   ]
  },
  {
   "cell_type": "code",
   "execution_count": 16,
   "metadata": {},
   "outputs": [
    {
     "data": {
      "image/png": "[encoded data removed]",
      "text/plain": [
       "<Figure size 432x288 with 1 Axes>"
      ]
     },
     "metadata": {
      "needs_background": "light"
     },
     "output_type": "display_data"
    }
   ],
   "source": [
    "# plot data points with decision boundary defined by learned parameter theta\n",
    "PlotDecisionBoundary(theta_opt, X_withones, y)"
   ]
  },
  {
   "cell_type": "markdown",
   "metadata": {},
   "source": [
    "## Predict And Accuracies"
   ]
  },
  {
   "cell_type": "code",
   "execution_count": 17,
   "metadata": {},
   "outputs": [
    {
     "name": "stdout",
     "output_type": "stream",
     "text": [
      "For a student with scores 45 and 85, we predict an admission probability of \n",
      "0.776290724059\n"
     ]
    }
   ],
   "source": [
    "# predict probability for a student with score 45 on exam 1 and 85 on exam 2\n",
    "prob = sigmoid(np.dot([1,45,85], theta_opt))\n",
    "print('For a student with scores 45 and 85, we predict an admission probability of \\n{}'.format(prob))"
   ]
  },
  {
   "cell_type": "code",
   "execution_count": 18,
   "metadata": {},
   "outputs": [],
   "source": [
    "# predict function predict whether the label is 0 or 1 using learned logistic regression parameters theta\n",
    "def predict(theta, X):\n",
    "    m = X.shape[0]\n",
    "    h = sigmoid(np.dot(X, theta))\n",
    "    p = np.zeros(m,)\n",
    "    for i in range(m):\n",
    "        if h[i] >= 0.5:\n",
    "            p[i] = 1\n",
    "        else:\n",
    "            p[i] = 0\n",
    "    return p"
   ]
  },
  {
   "cell_type": "code",
   "execution_count": 19,
   "metadata": {},
   "outputs": [
    {
     "name": "stdout",
     "output_type": "stream",
     "text": [
      "Train Accuracy is: 89.0%\n"
     ]
    }
   ],
   "source": [
    "# compute accuracy on our training set\n",
    "p = predict(theta_opt, X_withones)\n",
    "print(\"Train Accuracy is: {}%\".format((p == y).sum()/float(len(y))*100))"
   ]
  },
  {
   "cell_type": "code",
   "execution_count": null,
   "metadata": {},
   "outputs": [],
   "source": []
  }
 ],
 "metadata": {
  "kernelspec": {
   "display_name": "Python 2",
   "language": "python",
   "name": "python2"
  },
  "language_info": {
   "codemirror_mode": {
    "name": "ipython",
    "version": 2
   },
   "file_extension": ".py",
   "mimetype": "text/x-python",
   "name": "python",
   "nbconvert_exporter": "python",
   "pygments_lexer": "ipython2",
   "version": "2.7.15"
  }
 },
 "nbformat": 4,
 "nbformat_minor": 2
}

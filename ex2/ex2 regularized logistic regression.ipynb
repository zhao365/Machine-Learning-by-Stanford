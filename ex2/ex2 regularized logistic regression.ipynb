{
 "cells": [
  {
   "cell_type": "markdown",
   "metadata": {},
   "source": [
    "# Regularized Logistic Regression\n",
    "\n",
    "In this project, we will implement regularized logistic regression to predict whether microchips from a fabrication plant passes quality assurance(QA). During QA, each microchip goes through various tests to ensure it is functioning correctly. Suppose we have the test resluts for some microchips on two tests. From these two tests, we would like to determine whether the microchips should be accepted or rejected. \n",
    "\n",
    "We will write functions to\n",
    "\n",
    "- create more features, \n",
    "- compute sigmoid and cost functions,\n",
    "- learning parameters using fmin_bfgs in scipy.optimize library,\n",
    "- generate plots to visulaize data and how our model works."
   ]
  },
  {
   "cell_type": "code",
   "execution_count": 1,
   "metadata": {},
   "outputs": [],
   "source": [
    "import numpy as np\n",
    "import matplotlib.pyplot as plt\n",
    "%matplotlib inline"
   ]
  },
  {
   "cell_type": "code",
   "execution_count": 2,
   "metadata": {},
   "outputs": [],
   "source": [
    "from scipy.optimize import fmin_bfgs"
   ]
  },
  {
   "cell_type": "markdown",
   "metadata": {},
   "source": [
    "## Load and Plot Data"
   ]
  },
  {
   "cell_type": "code",
   "execution_count": 3,
   "metadata": {},
   "outputs": [],
   "source": [
    "# load data\n",
    "data = np.loadtxt('ex2data2.txt', delimiter=',')\n",
    "X = data[:, 0:2]\n",
    "y = data[:, 2]"
   ]
  },
  {
   "cell_type": "code",
   "execution_count": 4,
   "metadata": {},
   "outputs": [],
   "source": [
    "# PlotData plots data points with + for positive examples and o for negative examples\n",
    "def PlotData(X,y):\n",
    "    pos_index = np.where(y==1)[0]\n",
    "    neg_index = np.where(y==0)[0]\n",
    "    plt.plot(X[pos_index,0],X[pos_index,1],'k+')\n",
    "    plt.plot(X[neg_index,0],X[neg_index,1],'yo')\n",
    "    plt.xlabel('Microchip Test 1')\n",
    "    plt.ylabel('Microchip Test 1')\n",
    "    plt.legend(['y = 1 ','y = 0'], loc = 1)\n",
    "    plt.show()"
   ]
  },
  {
   "cell_type": "code",
   "execution_count": 5,
   "metadata": {},
   "outputs": [
    {
     "data": {
      "image/png": "[encoded data removed]",
      "text/plain": [
       "<Figure size 432x288 with 1 Axes>"
      ]
     },
     "metadata": {
      "needs_background": "light"
     },
     "output_type": "display_data"
    }
   ],
   "source": [
    "PlotData(X,y)"
   ]
  },
  {
   "cell_type": "markdown",
   "metadata": {},
   "source": [
    "## Regularized Logistic Regression"
   ]
  },
  {
   "cell_type": "code",
   "execution_count": 6,
   "metadata": {},
   "outputs": [],
   "source": [
    "# mapFeature maps the two input features to polynomial features \n",
    "def mapFeature(X1, X2):\n",
    "    degree = 6\n",
    "    out = np.ones([len(X1),1])\n",
    "    for i in range(1, degree+1):\n",
    "        for j in range(i+1):\n",
    "            terms = X1**(i-j) * X2**(j)\n",
    "            terms = np.reshape(terms, (len(terms),1))\n",
    "            out = np.append(out, terms, 1)\n",
    "    return out"
   ]
  },
  {
   "cell_type": "code",
   "execution_count": 7,
   "metadata": {},
   "outputs": [
    {
     "data": {
      "text/plain": [
       "(118L, 28L)"
      ]
     },
     "execution_count": 7,
     "metadata": {},
     "output_type": "execute_result"
    }
   ],
   "source": [
    "# add polynomial features to original data\n",
    "X_features = mapFeature(X[:,0], X[:,1])\n",
    "X_features.shape"
   ]
  },
  {
   "cell_type": "code",
   "execution_count": 8,
   "metadata": {},
   "outputs": [],
   "source": [
    "# compute sigmoid of a variable\n",
    "def sigmoid(z):\n",
    "    g = 1./(1.+np.exp(-z))\n",
    "    return g"
   ]
  },
  {
   "cell_type": "code",
   "execution_count": 9,
   "metadata": {},
   "outputs": [],
   "source": [
    "# costFunctionReg compute cost and gradient for regularized logistic regression\n",
    "def costFunctionReg(theta, X, y, reg_lambda):\n",
    "    m = len(y)\n",
    "    h = sigmoid(np.dot(X,theta))\n",
    "    J = -np.dot(y.transpose(),np.log(h)) - np.dot((1-y).transpose(), np.log(1-h))\n",
    "    theta_sqaured = np.dot(theta[1:].transpose(), theta[1:])\n",
    "    J = J/m + reg_lambda/(2*m) *theta_sqaured\n",
    "    grad = np.dot(X.transpose(), h-y)\n",
    "    grad = grad/m\n",
    "    grad[1:] = grad[1:] + (reg_lambda/m) * theta[1:]\n",
    "    return J, grad"
   ]
  },
  {
   "cell_type": "code",
   "execution_count": 10,
   "metadata": {},
   "outputs": [],
   "source": [
    "# initial theta\n",
    "initial_theta = np.zeros(X_features.shape[1],)\n",
    "# set lambda for regularization, lambda can be changed\n",
    "reg_lambda = 1"
   ]
  },
  {
   "cell_type": "code",
   "execution_count": 11,
   "metadata": {},
   "outputs": [],
   "source": [
    "# compute initial cost and gradient\n",
    "J, grad = costFunctionReg(initial_theta, X_features, y, reg_lambda)"
   ]
  },
  {
   "cell_type": "code",
   "execution_count": 12,
   "metadata": {
    "scrolled": true
   },
   "outputs": [
    {
     "name": "stdout",
     "output_type": "stream",
     "text": [
      "initial theta is: \n",
      "[0. 0. 0. 0. 0. 0. 0. 0. 0. 0. 0. 0. 0. 0. 0. 0. 0. 0. 0. 0. 0. 0. 0. 0.\n",
      " 0. 0. 0. 0.]\n",
      "Cost at initial theta: 0.69314718056\n",
      "Gradient at initial theta: \n",
      "[8.47457627e-03 1.87880932e-02 7.77711864e-05 5.03446395e-02\n",
      " 1.15013308e-02 3.76648474e-02 1.83559872e-02 7.32393391e-03\n",
      " 8.19244468e-03 2.34764889e-02 3.93486234e-02 2.23923907e-03\n",
      " 1.28600503e-02 3.09593720e-03 3.93028171e-02 1.99707467e-02\n",
      " 4.32983232e-03 3.38643902e-03 5.83822078e-03 4.47629067e-03\n",
      " 3.10079849e-02 3.10312442e-02 1.09740238e-03 6.31570797e-03\n",
      " 4.08503006e-04 7.26504316e-03 1.37646175e-03 3.87936363e-02]\n"
     ]
    }
   ],
   "source": [
    "# display initial theta, cost and gradient\n",
    "print('initial theta is: \\n{}'.format(initial_theta))\n",
    "print('Cost at initial theta: {}'.format(J))\n",
    "print('Gradient at initial theta: \\n{}'.format(grad))"
   ]
  },
  {
   "cell_type": "markdown",
   "metadata": {},
   "source": [
    "## Optimizing using fmin_bfgs"
   ]
  },
  {
   "cell_type": "code",
   "execution_count": 13,
   "metadata": {},
   "outputs": [],
   "source": [
    "# costReg function is the objective function passing to fmin_bfgs and get minimized.\n",
    "def costReg(theta, X, y, reg_lambda):\n",
    "    m = len(y)\n",
    "    h = sigmoid(np.dot(X,theta))\n",
    "    J = -np.dot(y.transpose(),np.log(h)) - np.dot((1-y).transpose(), np.log(1-h))\n",
    "    theta_sqaured = np.dot(theta[1:].transpose(), theta[1:])\n",
    "    J = J/m + reg_lambda/(2*m) *theta_sqaured\n",
    "    return J"
   ]
  },
  {
   "cell_type": "code",
   "execution_count": 14,
   "metadata": {},
   "outputs": [],
   "source": [
    "# gradReg function is the gradient of objective function we'll pass to fmin_bfgs \n",
    "def gradReg(theta, X, y, reg_lambda):\n",
    "    m = len(y)\n",
    "    h = sigmoid(np.dot(X,theta))\n",
    "    grad = np.dot(X.transpose(), h-y)\n",
    "    grad = grad/m\n",
    "    grad[1:] = grad[1:] + (reg_lambda/m) * theta[1:]\n",
    "    return grad"
   ]
  },
  {
   "cell_type": "code",
   "execution_count": 15,
   "metadata": {},
   "outputs": [
    {
     "name": "stdout",
     "output_type": "stream",
     "text": [
      "Warning: Maximum number of iterations has been exceeded.\n",
      "         Current function value: 0.334661\n",
      "         Iterations: 50\n",
      "         Function evaluations: 51\n",
      "         Gradient evaluations: 51\n"
     ]
    }
   ],
   "source": [
    "# run fmin_bfgs to obtain the optimal theta\n",
    "theta_opt = fmin_bfgs(costReg, initial_theta, fprime=gradReg,args=(X_features,y,reg_lambda),maxiter=50)"
   ]
  },
  {
   "cell_type": "code",
   "execution_count": 16,
   "metadata": {},
   "outputs": [
    {
     "name": "stdout",
     "output_type": "stream",
     "text": [
      "optimal theta to minimize cost is: \n",
      "[ 3.76612844  2.58145279  3.96056101 -5.48845091 -4.51390598 -6.3107119\n",
      "  1.64686511 -2.14980017 -1.24380969  0.02926085 -4.81181673  0.49965584\n",
      " -2.77983724 -2.09818072 -3.77537273 -0.64535523 -1.04402829  0.691779\n",
      " -1.67783925 -2.2234603   0.2484365  -4.17173609  0.42242984 -1.1989428\n",
      "  0.37463555 -1.6630537  -1.81356045 -1.66043004]\n",
      "cost at theta found by fmin_bfgs is: \n",
      "0.334661299953\n"
     ]
    }
   ],
   "source": [
    "# display results\n",
    "print(\"optimal theta to minimize cost is: \\n{}\".format(theta_opt))\n",
    "print(\"cost at theta found by fmin_bfgs is: \\n{}\".format(costReg(theta_opt, X_features, y, reg_lambda)))"
   ]
  },
  {
   "cell_type": "code",
   "execution_count": 17,
   "metadata": {},
   "outputs": [],
   "source": [
    "# PlotDecisionBoundary plots the data points X and Y with the decision boundary defined by theta\n",
    "def PlotDecisionBoundary(theta, X, y):\n",
    "    pos_index = np.where(y==1)[0]\n",
    "    neg_index = np.where(y==0)[0]\n",
    "    plt.plot(X[pos_index,1],X[pos_index,2],'k+')\n",
    "    plt.plot(X[neg_index,1],X[neg_index,2],'yo')\n",
    "    u = np.linspace(-1,1.5,50)\n",
    "    v = np.linspace(-1,1.5,50)\n",
    "    z = np.zeros([len(u),len(v)])\n",
    "    for i in range(len(u)):\n",
    "        for j in range(len(v)):\n",
    "            z[i,j] = np.dot(mapFeature(np.array([u[i]]),np.array([v[j]])),theta)\n",
    "    z = z.transpose()\n",
    "    plt.contour(u,v,z,[0], colors = 'green')   \n",
    "    plt.xlabel('Microchip Test 1')\n",
    "    plt.ylabel('Microchip Test 1')\n",
    "    plt.legend(['y = 1', 'y = 0','Decision boundary'], loc = 1)\n",
    "    plt.show()"
   ]
  },
  {
   "cell_type": "code",
   "execution_count": 18,
   "metadata": {},
   "outputs": [
    {
     "data": {
      "image/png": "[encoded data removed]",
      "text/plain": [
       "<Figure size 432x288 with 1 Axes>"
      ]
     },
     "metadata": {
      "needs_background": "light"
     },
     "output_type": "display_data"
    }
   ],
   "source": [
    "# plot data points with decision boundary defined by learned parameter theta\n",
    "PlotDecisionBoundary(theta_opt, X_features, y)"
   ]
  },
  {
   "cell_type": "markdown",
   "metadata": {},
   "source": [
    "## Predict and Accuracies"
   ]
  },
  {
   "cell_type": "code",
   "execution_count": 19,
   "metadata": {},
   "outputs": [],
   "source": [
    "# predict function predict whether the label is 0 or 1 using learned logistic regression parameters theta\n",
    "def predict(theta, X):\n",
    "    m = X.shape[0]\n",
    "    h = sigmoid(np.dot(X, theta))\n",
    "    p = np.zeros(m,)\n",
    "    for i in range(m):\n",
    "        if h[i] >= 0.5:\n",
    "            p[i] = 1\n",
    "        else:\n",
    "            p[i] = 0\n",
    "    return p"
   ]
  },
  {
   "cell_type": "code",
   "execution_count": 20,
   "metadata": {},
   "outputs": [
    {
     "name": "stdout",
     "output_type": "stream",
     "text": [
      "Train Accuracy is: 84.7457627119%\n"
     ]
    }
   ],
   "source": [
    "# compute accuracy on our training set\n",
    "p = predict(theta_opt, X_features)\n",
    "print(\"Train Accuracy is: {}%\".format((p == y).sum()/float(len(y))*100))"
   ]
  },
  {
   "cell_type": "code",
   "execution_count": null,
   "metadata": {},
   "outputs": [],
   "source": []
  }
 ],
 "metadata": {
  "kernelspec": {
   "display_name": "Python 2",
   "language": "python",
   "name": "python2"
  },
  "language_info": {
   "codemirror_mode": {
    "name": "ipython",
    "version": 2
   },
   "file_extension": ".py",
   "mimetype": "text/x-python",
   "name": "python",
   "nbconvert_exporter": "python",
   "pygments_lexer": "ipython2",
   "version": "2.7.15"
  }
 },
 "nbformat": 4,
 "nbformat_minor": 2
}

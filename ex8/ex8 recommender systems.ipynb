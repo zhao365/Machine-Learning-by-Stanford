{
 "cells": [
  {
   "cell_type": "markdown",
   "metadata": {},
   "source": [
    "# Recommender Systems\n",
    "\n",
    "In this exercise, we will implement the collaborative filtering learning algorithm and apply it to a dataset of movie ratings. The dataset consists of ratings on a scale of 1 to 5. The dataset has n_u = 943 users and n_m = 1682 movies."
   ]
  },
  {
   "cell_type": "markdown",
   "metadata": {},
   "source": [
    "## Part 1: Loading movie ratings dataset"
   ]
  },
  {
   "cell_type": "code",
   "execution_count": 1,
   "metadata": {},
   "outputs": [],
   "source": [
    "import numpy as np\n",
    "import matplotlib.pyplot as plt\n",
    "%matplotlib inline\n",
    "import scipy.io"
   ]
  },
  {
   "cell_type": "code",
   "execution_count": 2,
   "metadata": {},
   "outputs": [],
   "source": [
    "import re\n",
    "from scipy.optimize import fmin_cg"
   ]
  },
  {
   "cell_type": "code",
   "execution_count": 3,
   "metadata": {},
   "outputs": [],
   "source": [
    "movies = scipy.io.loadmat('ex8_movies.mat')\n",
    "R = movies['R']\n",
    "Y = movies['Y']"
   ]
  },
  {
   "cell_type": "code",
   "execution_count": 4,
   "metadata": {},
   "outputs": [
    {
     "name": "stdout",
     "output_type": "stream",
     "text": [
      "Average rating for movie 1 (Toy Story):\n"
     ]
    }
   ],
   "source": [
    "print('Average rating for movie 1 (Toy Story):'.format(np.mean(Y[0,R[0,:]==1])))"
   ]
  },
  {
   "cell_type": "code",
   "execution_count": 5,
   "metadata": {},
   "outputs": [
    {
     "data": {
      "image/png": "[encoded data removed]",
      "text/plain": [
       "<Figure size 432x288 with 1 Axes>"
      ]
     },
     "metadata": {
      "needs_background": "light"
     },
     "output_type": "display_data"
    }
   ],
   "source": [
    "# visualize the ratings matrix \n",
    "plt.imshow(Y)\n",
    "plt.show()"
   ]
  },
  {
   "cell_type": "markdown",
   "metadata": {},
   "source": [
    "## Part 2: Collaborative Filtering Cost Function and Gradient\n",
    "\n",
    "We will implement the cost function for collaborative filtering."
   ]
  },
  {
   "cell_type": "code",
   "execution_count": 6,
   "metadata": {},
   "outputs": [],
   "source": [
    "# cofiCostFunc returns the cost for the collaborative filtering problem\n",
    "def cofiCostFunc(params, Y, R, num_users, num_movies, num_features, reg_lambda):\n",
    "    X = params[0:num_movies*num_features].reshape([num_movies, num_features])\n",
    "    Theta = params[num_movies*num_features:].reshape([num_users, num_features])\n",
    "    D = R*np.dot(X, Theta.T)-Y\n",
    "    J = np.sum(D*D)\n",
    "    J = J/2\n",
    "    if reg_lambda != 0:\n",
    "        X_reg = np.sum(X*X)\n",
    "        Theta_reg = np.sum(Theta*Theta)\n",
    "        J = J + reg_lambda*X_reg/float(2) + reg_lambda*Theta_reg/float(2)\n",
    "    return J"
   ]
  },
  {
   "cell_type": "code",
   "execution_count": 7,
   "metadata": {},
   "outputs": [],
   "source": [
    "# cofiCostFunc returns the gradient for the collaborative filtering problem\n",
    "def cofiGradFunc(params, Y, R, num_users, num_movies, num_features, reg_lambda):\n",
    "    X = params[0:num_movies*num_features].reshape([num_movies, num_features])\n",
    "    Theta = params[num_movies*num_features:].reshape([num_users, num_features])\n",
    "    D = R*np.dot(X, Theta.T) - Y\n",
    "    X_grad = np.dot(D, Theta) + reg_lambda*X\n",
    "    Theta_grad = np.dot(D.T,X) + reg_lambda*Theta\n",
    "    grad = np.concatenate((X_grad.reshape([num_movies*num_features,]) ,Theta_grad.reshape([num_users*num_features,])))\n",
    "    return grad"
   ]
  },
  {
   "cell_type": "code",
   "execution_count": 8,
   "metadata": {},
   "outputs": [],
   "source": [
    "# load pre-trained weights\n",
    "movieParams = scipy.io.loadmat('ex8_movieParams.mat')\n",
    "Theta = movieParams['Theta']\n",
    "X = movieParams['X']"
   ]
  },
  {
   "cell_type": "code",
   "execution_count": 9,
   "metadata": {},
   "outputs": [],
   "source": [
    "#Reduce the data set size so that this runs faster\n",
    "num_users = 4\n",
    "num_movies = 5\n",
    "num_features = 3\n",
    "X = X[0:num_movies, 0:num_features]\n",
    "Theta = Theta[0:num_users, 0:num_features]\n",
    "Y = Y[0:num_movies, 0:num_users]\n",
    "R = R[0:num_movies, 0:num_users]"
   ]
  },
  {
   "cell_type": "code",
   "execution_count": 10,
   "metadata": {},
   "outputs": [],
   "source": [
    "# evaluate cost and gradient\n",
    "J = cofiCostFunc(np.concatenate((X.reshape([num_movies*num_features,]) ,Theta.reshape([num_users*num_features,]))), Y, R, num_users, num_movies, num_features, 0)\n",
    "grad  = cofiGradFunc(np.concatenate((X.reshape([num_movies*num_features,]) ,Theta.reshape([num_users*num_features,]))), Y, R, num_users, num_movies, num_features, 0)"
   ]
  },
  {
   "cell_type": "code",
   "execution_count": 11,
   "metadata": {},
   "outputs": [
    {
     "name": "stdout",
     "output_type": "stream",
     "text": [
      "Cost at loaded parameters: 22.2246037257\n",
      "Gradient at loaded parameters: \n",
      " [ -2.52899165   7.57570308  -1.89979026  -0.56819597   3.35265031\n",
      "  -0.52339845  -0.83240713   4.91163297  -0.76677878  -0.38358278\n",
      "   2.26333698  -0.35334048  -0.80378006   4.74271842  -0.74040871\n",
      " -10.5680202    4.62776019  -7.16004443  -3.05099006   1.16441367\n",
      "  -3.47410789   0.           0.           0.           0.\n",
      "   0.           0.        ]\n"
     ]
    }
   ],
   "source": [
    "print('Cost at loaded parameters: {}'.format(J))\n",
    "print('Gradient at loaded parameters: \\n {}'.format(grad))"
   ]
  },
  {
   "cell_type": "markdown",
   "metadata": {},
   "source": [
    "## Part 3: Collaborative Filtering Cost Regularization and Gradient"
   ]
  },
  {
   "cell_type": "code",
   "execution_count": 12,
   "metadata": {},
   "outputs": [],
   "source": [
    "reg_lambda = 1.5\n",
    "J = cofiCostFunc(np.concatenate((X.reshape([num_movies*num_features,]) ,Theta.reshape([num_users*num_features,]))), Y, R, num_users, num_movies, num_features, reg_lambda)\n",
    "grad  = cofiGradFunc(np.concatenate((X.reshape([num_movies*num_features,]) ,Theta.reshape([num_users*num_features,]))), Y, R, num_users, num_movies, num_features, reg_lambda)"
   ]
  },
  {
   "cell_type": "code",
   "execution_count": 13,
   "metadata": {},
   "outputs": [
    {
     "name": "stdout",
     "output_type": "stream",
     "text": [
      "Cost at loaded parameters (lambda = 1.5): 31.3440562443\n",
      "Gradient at loaded parameters (lambda = 1.5): \n",
      " [ -0.95596339   6.97535514  -0.10861109   0.60308088   2.77421145\n",
      "   0.25839822   0.12985616   4.0898522   -0.89247334   0.29684395\n",
      "   1.06300933   0.66738144   0.60252677   4.90185327  -0.19747928\n",
      " -10.13985478   2.10136256  -6.76563628  -2.29347024   0.48244098\n",
      "  -2.99791422  -0.64787484  -0.71820673   1.27006666   1.09289758\n",
      "  -0.40784086   0.49026541]\n"
     ]
    }
   ],
   "source": [
    "print('Cost at loaded parameters (lambda = 1.5): {}'.format(J))\n",
    "print('Gradient at loaded parameters (lambda = 1.5): \\n {}'.format(grad))"
   ]
  },
  {
   "cell_type": "markdown",
   "metadata": {},
   "source": [
    "## Part 4: Entering ratings for a new user"
   ]
  },
  {
   "cell_type": "code",
   "execution_count": 14,
   "metadata": {},
   "outputs": [],
   "source": [
    "# loadMovieList() reads the fixed movie list in movie.txt and return a dictionary \n",
    "def loadMovieList():\n",
    "    movies = open('movie_ids.txt').read()\n",
    "    movie_list = movies.split('\\n')\n",
    "    movieList = {}\n",
    "    n = 1682\n",
    "    for i in range(n):\n",
    "        line = movie_list[i]\n",
    "        line = re.sub('^[0-9]+', '', line)\n",
    "        movieList[i] = line.strip()\n",
    "    return movieList"
   ]
  },
  {
   "cell_type": "code",
   "execution_count": 15,
   "metadata": {},
   "outputs": [],
   "source": [
    "movieList = loadMovieList()"
   ]
  },
  {
   "cell_type": "code",
   "execution_count": 16,
   "metadata": {},
   "outputs": [],
   "source": [
    "# initialize my ratings\n",
    "my_ratings = np.zeros([1682,1])\n",
    "my_ratings[0] = 4\n",
    "my_ratings[97] = 2\n",
    "my_ratings[6] = 3\n",
    "my_ratings[11] = 5\n",
    "my_ratings[53] = 4\n",
    "my_ratings[63] = 5\n",
    "my_ratings[65] = 3\n",
    "my_ratings[68] = 5\n",
    "my_ratings[182] = 4\n",
    "my_ratings[225] = 5\n",
    "my_ratings[354] = 5"
   ]
  },
  {
   "cell_type": "code",
   "execution_count": 17,
   "metadata": {},
   "outputs": [
    {
     "name": "stdout",
     "output_type": "stream",
     "text": [
      "New user ratings:\n",
      "rate is [4.] for Toy Story (1995)\n",
      "rate is [3.] for Twelve Monkeys (1995)\n",
      "rate is [5.] for Usual Suspects, The (1995)\n",
      "rate is [4.] for Outbreak (1995)\n",
      "rate is [5.] for Shawshank Redemption, The (1994)\n",
      "rate is [3.] for While You Were Sleeping (1995)\n",
      "rate is [5.] for Forrest Gump (1994)\n",
      "rate is [2.] for Silence of the Lambs, The (1991)\n",
      "rate is [4.] for Alien (1979)\n",
      "rate is [5.] for Die Hard 2 (1990)\n",
      "rate is [5.] for Sphere (1998)\n"
     ]
    }
   ],
   "source": [
    "print('New user ratings:')\n",
    "for i in range(len(movieList)):\n",
    "    if my_ratings[i] > 0:\n",
    "        print('rate is {} for {}'.format(my_ratings[i], movieList[i]))"
   ]
  },
  {
   "cell_type": "markdown",
   "metadata": {},
   "source": [
    "Part 6: Learning Movie Ratings"
   ]
  },
  {
   "cell_type": "code",
   "execution_count": 18,
   "metadata": {},
   "outputs": [],
   "source": [
    "# laod data\n",
    "movies = scipy.io.loadmat('ex8_movies.mat')\n",
    "R = movies['R']\n",
    "Y = movies['Y']"
   ]
  },
  {
   "cell_type": "code",
   "execution_count": 19,
   "metadata": {},
   "outputs": [],
   "source": [
    "# add our own ratings to the data matrix\n",
    "Y = np.append(my_ratings, Y, 1)\n",
    "R = np.append((my_ratings !=0),R, 1)"
   ]
  },
  {
   "cell_type": "code",
   "execution_count": 20,
   "metadata": {},
   "outputs": [],
   "source": [
    "# normalizeRatings() preprocess data by subtracting mean rating for every movie (each row) \n",
    "def normalizeRatings(Y, R):\n",
    "    m = Y.shape[0]\n",
    "    n = Y.shape[1]\n",
    "    Ymean = np.sum(Y,1)/(1.0*np.sum(R,1))\n",
    "    Ynorm = R*(Y - Ymean.reshape([m,1]))\n",
    "    return Ynorm, Ymean"
   ]
  },
  {
   "cell_type": "code",
   "execution_count": 21,
   "metadata": {},
   "outputs": [],
   "source": [
    "# normalize ratings\n",
    "Ynorm, Ymean = normalizeRatings(Y, R)"
   ]
  },
  {
   "cell_type": "code",
   "execution_count": 22,
   "metadata": {},
   "outputs": [],
   "source": [
    "# useful values\n",
    "num_users = Y.shape[1]\n",
    "num_movies = Y.shape[0]\n",
    "num_features = 10"
   ]
  },
  {
   "cell_type": "code",
   "execution_count": 23,
   "metadata": {},
   "outputs": [],
   "source": [
    "# set initial parameters (Theta, X)\n",
    "X = np.random.randn(num_movies, num_features)\n",
    "Theta = np.random.randn(num_users, num_features)\n",
    "initial_parameters = np.concatenate((X.reshape([num_movies*num_features,]),Theta.reshape([num_users*num_features,])))"
   ]
  },
  {
   "cell_type": "code",
   "execution_count": 24,
   "metadata": {},
   "outputs": [
    {
     "name": "stdout",
     "output_type": "stream",
     "text": [
      "Warning: Maximum number of iterations has been exceeded.\n",
      "         Current function value: 38966.707833\n",
      "         Iterations: 100\n",
      "         Function evaluations: 148\n",
      "         Gradient evaluations: 148\n"
     ]
    }
   ],
   "source": [
    "# train the data\n",
    "reg_lambda = 10\n",
    "# fmin_bfgs is very slow for this problem, and so we use fmin_cg\n",
    "parameters = fmin_cg(cofiCostFunc, initial_parameters, fprime=cofiGradFunc,args=(Ynorm, R, num_users, num_movies, num_features, reg_lambda), maxiter= 100)"
   ]
  },
  {
   "cell_type": "code",
   "execution_count": 25,
   "metadata": {},
   "outputs": [],
   "source": [
    "# unfold the returned parameters\n",
    "X = parameters[0:num_movies*num_features].reshape([num_movies, num_features])\n",
    "Theta = parameters[num_movies*num_features:].reshape([num_users, num_features])"
   ]
  },
  {
   "cell_type": "markdown",
   "metadata": {},
   "source": [
    "## Part 5: Recommendation for you\n",
    "\n",
    "After training the model, we can now make recommendations by computing the predictions matrix"
   ]
  },
  {
   "cell_type": "code",
   "execution_count": 26,
   "metadata": {},
   "outputs": [],
   "source": [
    "p = np.dot(X, Theta.T)\n",
    "my_predictions = p[:,0] + Ymean\n",
    "ix = my_predictions.argsort()[::-1]"
   ]
  },
  {
   "cell_type": "code",
   "execution_count": 27,
   "metadata": {},
   "outputs": [
    {
     "name": "stdout",
     "output_type": "stream",
     "text": [
      "Top recommendations for new user:\n",
      "Predict rating 5.0 for movie Santa with Muscles (1996)\n",
      "Predict rating 5.0 for movie Someone Else's America (1995)\n",
      "Predict rating 5.0 for movie Aiqing wansui (1994)\n",
      "Predict rating 5.0 for movie Star Kid (1997)\n",
      "Predict rating 5.0 for movie Entertaining Angels: The Dorothy Day Story (1996)\n",
      "Predict rating 5.0 for movie Marlene Dietrich: Shadow and Light (1996)\n",
      "Predict rating 5.0 for movie They Made Me a Criminal (1939)\n",
      "Predict rating 5.0 for movie Prefontaine (1997)\n",
      "Predict rating 5.0 for movie Saint of Fort Washington, The (1993)\n",
      "Predict rating 5.0 for movie Great Day in Harlem, A (1994)\n",
      "Predict rating 4.6 for movie Pather Panchali (1955)\n",
      "Predict rating 4.6 for movie Star Wars (1977)\n",
      "Predict rating 4.5 for movie Maya Lin: A Strong Clear Vision (1994)\n",
      "Predict rating 4.5 for movie Shawshank Redemption, The (1994)\n",
      "Predict rating 4.5 for movie Wrong Trousers, The (1993)\n",
      "Predict rating 4.5 for movie Anna (1996)\n",
      "Predict rating 4.5 for movie Some Mother's Son (1996)\n",
      "Predict rating 4.5 for movie Everest (1998)\n",
      "Predict rating 4.5 for movie Schindler's List (1993)\n",
      "Predict rating 4.5 for movie Raiders of the Lost Ark (1981)\n"
     ]
    }
   ],
   "source": [
    "print('Top recommendations for new user:')\n",
    "for i in range(20):\n",
    "    j = ix[i]\n",
    "    print('Predict rating {:.1f} for movie {}'.format(my_predictions[j], movieList[j]))"
   ]
  },
  {
   "cell_type": "code",
   "execution_count": null,
   "metadata": {},
   "outputs": [],
   "source": []
  }
 ],
 "metadata": {
  "kernelspec": {
   "display_name": "Python 2",
   "language": "python",
   "name": "python2"
  },
  "language_info": {
   "codemirror_mode": {
    "name": "ipython",
    "version": 2
   },
   "file_extension": ".py",
   "mimetype": "text/x-python",
   "name": "python",
   "nbconvert_exporter": "python",
   "pygments_lexer": "ipython2",
   "version": "2.7.15"
  }
 },
 "nbformat": 4,
 "nbformat_minor": 2
}

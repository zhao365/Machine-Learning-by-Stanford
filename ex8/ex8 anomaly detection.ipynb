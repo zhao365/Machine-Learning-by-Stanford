{
 "cells": [
  {
   "cell_type": "markdown",
   "metadata": {},
   "source": [
    "# Anomaly Detection\n",
    "\n",
    "In this exercise, we will implement an anomaly detection algorithm to detect anomalous behavior in server computer. The features measure the throughput(mb/s) and latency(ms) of response of each server. While servers were operating, we collected m=307 examples of how they were behaving and thus have an unlabeled dataset. We suspect that the vast majority of these examples are 'normal' examples of the servers operating normally, but there might also be some examples of servers acting anamalously within this dataset. We will use a Gaussian model to detect anomalous examples in our dataset. "
   ]
  },
  {
   "cell_type": "markdown",
   "metadata": {},
   "source": [
    "## Part 1: Load Example Dataset"
   ]
  },
  {
   "cell_type": "code",
   "execution_count": 1,
   "metadata": {},
   "outputs": [],
   "source": [
    "import numpy as np\n",
    "import scipy.io\n",
    "import matplotlib.pyplot as plt\n",
    "%matplotlib inline"
   ]
  },
  {
   "cell_type": "code",
   "execution_count": 2,
   "metadata": {},
   "outputs": [],
   "source": [
    "# load data\n",
    "data = scipy.io.loadmat('ex8data1.mat')\n",
    "X = data['X']\n",
    "Xval = data['Xval']\n",
    "yval = data['yval']\n",
    "yval = yval.reshape([len(yval),])"
   ]
  },
  {
   "cell_type": "code",
   "execution_count": 3,
   "metadata": {},
   "outputs": [
    {
     "data": {
      "image/png": "[encoded data removed]",
      "text/plain": [
       "<Figure size 432x288 with 1 Axes>"
      ]
     },
     "metadata": {
      "needs_background": "light"
     },
     "output_type": "display_data"
    }
   ],
   "source": [
    "# visualize the example dataset\n",
    "plt.plot(X[:,0],X[:,1],'bx')\n",
    "plt.xlabel('Latency')\n",
    "plt.ylabel('Throughout')\n",
    "plt.xlim([0,30])\n",
    "plt.ylim([0,30])\n",
    "plt.show()"
   ]
  },
  {
   "cell_type": "markdown",
   "metadata": {},
   "source": [
    "## Part 2: Estimate the dataset statistics"
   ]
  },
  {
   "cell_type": "code",
   "execution_count": 4,
   "metadata": {},
   "outputs": [],
   "source": [
    "# estimateGaussian() estimates the parameters of a Gaussian distribution using the data in X\n",
    "def estimateGaussian(X):\n",
    "    m = X.shape[0]\n",
    "    mu = np.mean(X, 0)\n",
    "    sigma2 = np.sum((X-mu)**2,0)\n",
    "    sigma2 = sigma2/float(m)\n",
    "    return mu, sigma2"
   ]
  },
  {
   "cell_type": "code",
   "execution_count": 5,
   "metadata": {},
   "outputs": [],
   "source": [
    "# multivariateGaussian() computes the probability density function of the multivariate gaussian distribution \n",
    "def multivariateGaussian(X, mu, sigma2):\n",
    "    k = len(mu)\n",
    "    X = X-mu\n",
    "    if len(sigma2.shape) ==1:\n",
    "        sigma2 = np.diag(sigma2)\n",
    "    p = ((2*np.pi)**(-k/2))*(np.linalg.det(sigma2)**(-0.5))*np.exp(-0.5*(np.sum(np.dot(X, np.linalg.pinv(sigma2))*X,1)))\n",
    "    return p"
   ]
  },
  {
   "cell_type": "code",
   "execution_count": 6,
   "metadata": {},
   "outputs": [],
   "source": [
    "# visualizeFit() visualize the dataset and its estimated distribution \n",
    "def visualizeFit(X, mu, sigma2):\n",
    "    u = np.linspace(0, 35, 71)\n",
    "    v = np.linspace(0, 35, 71)\n",
    "    x, y = np.meshgrid(u, v)\n",
    "    row_num = x.shape[0]\n",
    "    col_num = x.shape[1]\n",
    "    z = multivariateGaussian(np.append(x.reshape([71*71,1]),y.reshape([71*71,1]),1), mu, sigma2)\n",
    "    z = z.reshape([row_num, col_num])\n",
    "    plt.figure(figsize = (6,6))\n",
    "    plt.plot(X[:,0], X[:,1], 'bx')\n",
    "    plt.contour(x,y,z,colors = 'black')\n",
    "    plt.xlim([0,30])\n",
    "    plt.ylim([0,30])"
   ]
  },
  {
   "cell_type": "code",
   "execution_count": 7,
   "metadata": {},
   "outputs": [],
   "source": [
    "# estimate mu and sigma2\n",
    "mu, sigma2 = estimateGaussian(X)\n",
    "# returns the density of the multivariate normal at each data point of X\n",
    "p = multivariateGaussian(X, mu, sigma2)"
   ]
  },
  {
   "cell_type": "code",
   "execution_count": 8,
   "metadata": {},
   "outputs": [
    {
     "data": {
      "image/png": "[encoded data removed]",
      "text/plain": [
       "<Figure size 432x432 with 1 Axes>"
      ]
     },
     "metadata": {
      "needs_background": "light"
     },
     "output_type": "display_data"
    }
   ],
   "source": [
    "# visualize the fit\n",
    "visualizeFit(X,  mu, sigma2)\n",
    "plt.xlabel('Latency(ms)')\n",
    "plt.ylabel('Throughput(mb/s)')\n",
    "plt.show()"
   ]
  },
  {
   "cell_type": "markdown",
   "metadata": {},
   "source": [
    "## Part 3: Find Outliers\n",
    "\n",
    "Now we will find a good epsilon threshold using a cross-validation set probabilities given the estimated Gaussian distribution"
   ]
  },
  {
   "cell_type": "code",
   "execution_count": 9,
   "metadata": {},
   "outputs": [],
   "source": [
    "# selectThreshold() find the best threshold (epsilon) to use for selecting outliers\n",
    "def selectThreshold(yval, pval):\n",
    "    bestEpsilon = 0\n",
    "    bestF1 = 0\n",
    "    epsilons = np.linspace(np.min(pval), np.max(pval), 1000)\n",
    "    for eps in epsilons:\n",
    "        predictions = (pval < eps)\n",
    "        tp = np.sum((predictions == 1) & (yval ==1))\n",
    "        fp = np.sum((predictions == 1) & (yval ==0))\n",
    "        fn = np.sum((predictions == 0) & (yval ==1))\n",
    "        prec = tp/float(tp+fp)\n",
    "        rec = tp/float(tp+fn)\n",
    "        F1 = 2*prec*rec/float(prec+rec)\n",
    "        if F1 > bestF1:\n",
    "            bestF1 = F1\n",
    "            bestEpsilon = eps\n",
    "    return bestEpsilon, bestF1"
   ]
  },
  {
   "cell_type": "code",
   "execution_count": 10,
   "metadata": {},
   "outputs": [],
   "source": [
    "# visualizeFit_outliers draw outliers\n",
    "def visualizeFit_Outliers(X, mu, sigma2, p, epsilon):\n",
    "    u = np.linspace(0, 35, 71)\n",
    "    v = np.linspace(0, 35, 71)\n",
    "    x, y = np.meshgrid(u, v)\n",
    "    row_num = x.shape[0]\n",
    "    col_num = x.shape[1]\n",
    "    z = multivariateGaussian(np.append(x.reshape([71*71,1]),y.reshape([71*71,1]),1), mu, sigma2)\n",
    "    z = z.reshape([row_num, col_num])\n",
    "    plt.figure(figsize = (6,6))\n",
    "    plt.plot(X[:,0], X[:,1], 'bx')\n",
    "    plt.contour(x,y,z,colors = 'black')\n",
    "    outliers = np.where(p<epsilon)\n",
    "    plt.plot(X[outliers, 0], X[outliers, 1], 'ro')\n",
    "    plt.xlim([0,30])\n",
    "    plt.ylim([0,30])\n",
    "    plt.show()"
   ]
  },
  {
   "cell_type": "code",
   "execution_count": 11,
   "metadata": {},
   "outputs": [
    {
     "name": "stderr",
     "output_type": "stream",
     "text": [
      "C:\\Users\\xyguo\\Anaconda2\\lib\\site-packages\\ipykernel_launcher.py:11: RuntimeWarning: invalid value encountered in divide\n",
      "  # This is added back by InteractiveShellApp.init_path()\n"
     ]
    }
   ],
   "source": [
    "pval = multivariateGaussian(Xval, mu, sigma2)\n",
    "epsilon, F1 = selectThreshold(yval, pval)"
   ]
  },
  {
   "cell_type": "code",
   "execution_count": 12,
   "metadata": {},
   "outputs": [
    {
     "name": "stdout",
     "output_type": "stream",
     "text": [
      "best epsilon found using cross-validation: 8.9998526319e-05\n",
      "best F1 on cross validation set: 0.875\n"
     ]
    }
   ],
   "source": [
    "print('best epsilon found using cross-validation: {}'.format(epsilon))\n",
    "print('best F1 on cross validation set: {}'.format(F1))"
   ]
  },
  {
   "cell_type": "code",
   "execution_count": 13,
   "metadata": {},
   "outputs": [
    {
     "data": {
      "image/png": "[encoded data removed]",
      "text/plain": [
       "<Figure size 432x432 with 1 Axes>"
      ]
     },
     "metadata": {
      "needs_background": "light"
     },
     "output_type": "display_data"
    }
   ],
   "source": [
    "visualizeFit_Outliers(X, mu, sigma2, p, epsilon)"
   ]
  },
  {
   "cell_type": "markdown",
   "metadata": {},
   "source": [
    "## Multidimensional Outliers\n",
    "\n",
    "We will use the code from the previous part and apply it to a harder problem in which more features describe each data point and only some features indicate whether a point is an outlier."
   ]
  },
  {
   "cell_type": "code",
   "execution_count": 14,
   "metadata": {},
   "outputs": [],
   "source": [
    "# load data\n",
    "data = scipy.io.loadmat('ex8data2.mat')\n",
    "X = data['X']\n",
    "Xval = data['Xval']\n",
    "yval = data['yval']\n",
    "yval = yval.reshape([len(yval),])"
   ]
  },
  {
   "cell_type": "code",
   "execution_count": 15,
   "metadata": {},
   "outputs": [
    {
     "name": "stderr",
     "output_type": "stream",
     "text": [
      "C:\\Users\\xyguo\\Anaconda2\\lib\\site-packages\\ipykernel_launcher.py:11: RuntimeWarning: invalid value encountered in divide\n",
      "  # This is added back by InteractiveShellApp.init_path()\n"
     ]
    }
   ],
   "source": [
    "# apply the same steps to the larger dataset\n",
    "mu, sigma2 = estimateGaussian(X)\n",
    "# training set\n",
    "p = multivariateGaussian(X, mu, sigma2)\n",
    "# cross_validation set\n",
    "pval = multivariateGaussian(Xval, mu, sigma2)\n",
    "# find the best threshold\n",
    "epsilon, F1 = selectThreshold(yval, pval)"
   ]
  },
  {
   "cell_type": "code",
   "execution_count": 16,
   "metadata": {},
   "outputs": [
    {
     "name": "stdout",
     "output_type": "stream",
     "text": [
      "Best epsilon found using cross-validation: 5.4998481911e-19\n",
      "Best F1 on Cross Validation Set: 0.615384615385\n",
      "Outliers found: 117\n"
     ]
    }
   ],
   "source": [
    "print('Best epsilon found using cross-validation: {}'.format(epsilon))\n",
    "print('Best F1 on Cross Validation Set: {}'.format(F1))\n",
    "print('Outliers found: {}'.format(sum(p< epsilon)))"
   ]
  },
  {
   "cell_type": "code",
   "execution_count": null,
   "metadata": {},
   "outputs": [],
   "source": []
  }
 ],
 "metadata": {
  "kernelspec": {
   "display_name": "Python 2",
   "language": "python",
   "name": "python2"
  },
  "language_info": {
   "codemirror_mode": {
    "name": "ipython",
    "version": 2
   },
   "file_extension": ".py",
   "mimetype": "text/x-python",
   "name": "python",
   "nbconvert_exporter": "python",
   "pygments_lexer": "ipython2",
   "version": "2.7.15"
  }
 },
 "nbformat": 4,
 "nbformat_minor": 2
}

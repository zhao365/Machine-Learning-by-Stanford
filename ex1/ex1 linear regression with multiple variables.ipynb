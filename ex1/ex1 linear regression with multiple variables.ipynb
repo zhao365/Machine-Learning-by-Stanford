{
 "cells": [
  {
   "cell_type": "markdown",
   "metadata": {},
   "source": [
    "# Linear regression with multiple variables\n",
    "In this project, we will implement linear regression with multiple variables to predict the prices of houses. Suppose we are selling our house and we want to know what a good market price would be. One way to do this is to first collect information on recent houses sold and make a model of housing prices. \n",
    "\n",
    "Our data contains a training set of housing prices in Portland, Oregon. The first column is the size of the house (in sqaure feet), the second column is the number of bedrooms, and the thrid column is the price of the house.\n",
    "\n",
    "We will write functions to \n",
    "- normalize features, \n",
    "- compute cost functions, \n",
    "- perform gradient descent with multiple variables,\n",
    "- solve normal equations."
   ]
  },
  {
   "cell_type": "code",
   "execution_count": 1,
   "metadata": {},
   "outputs": [],
   "source": [
    "import numpy as np\n",
    "import matplotlib.pyplot as plt\n",
    "%matplotlib inline"
   ]
  },
  {
   "cell_type": "markdown",
   "metadata": {},
   "source": [
    "## Feature Normalization"
   ]
  },
  {
   "cell_type": "code",
   "execution_count": 2,
   "metadata": {},
   "outputs": [
    {
     "data": {
      "text/plain": [
       "'2104,3,399900\\n1600,3,329900\\n2400,3,369000\\n1416,2,232000\\n3000,4,539900\\n1985,4,299900\\n1534,3,314900\\n1427,3,198999\\n1380,3,212000\\n1494,3,242500\\n1940,4,239999\\n2000,3,347000\\n1890,3,329999\\n4478,5,699900\\n1268,3,259900\\n2300,4,449900\\n1320,2,299900\\n1236,3,199900\\n2609,4,499998\\n3031,4,599000\\n1767,3,252900\\n1888,2,255000\\n1604,3,242900\\n1962,4,259900\\n3890,3,573900\\n1100,3,249900\\n1458,3,464500\\n2526,3,469000\\n2200,3,475000\\n2637,3,299900\\n1839,2,349900\\n1000,1,169900\\n2040,4,314900\\n3137,3,579900\\n1811,4,285900\\n1437,3,249900\\n1239,3,229900\\n2132,4,345000\\n4215,4,549000\\n2162,4,287000\\n1664,2,368500\\n2238,3,329900\\n2567,4,314000\\n1200,3,299000\\n852,2,179900\\n1852,4,299900\\n1203,3,239500\\n'"
      ]
     },
     "execution_count": 2,
     "metadata": {},
     "output_type": "execute_result"
    }
   ],
   "source": [
    "# load data\n",
    "data = open('ex1data2.txt').read()\n",
    "data"
   ]
  },
  {
   "cell_type": "code",
   "execution_count": 3,
   "metadata": {},
   "outputs": [],
   "source": [
    "def getdata(s):\n",
    "    X = []\n",
    "    y = []\n",
    "    for row in s.split('\\n'):\n",
    "        if row != '':\n",
    "            pair = row.split(',')\n",
    "            X.append(np.array([float(pair[0]),float(pair[1])]))\n",
    "            y.append(np.array([float(pair[2])]))\n",
    "    X = np.array(X)\n",
    "    y = np.array(y)\n",
    "    return X, y"
   ]
  },
  {
   "cell_type": "code",
   "execution_count": 4,
   "metadata": {},
   "outputs": [],
   "source": [
    "X,y = getdata(data)\n",
    "m = len(y)"
   ]
  },
  {
   "cell_type": "code",
   "execution_count": 5,
   "metadata": {},
   "outputs": [
    {
     "name": "stdout",
     "output_type": "stream",
     "text": [
      "First 10 examples from the dataset:\n",
      "[[2104.    3.]\n",
      " [1600.    3.]\n",
      " [2400.    3.]]\n",
      "[[399900.]\n",
      " [329900.]\n",
      " [369000.]]\n"
     ]
    }
   ],
   "source": [
    "# print out some data points\n",
    "print('First 10 examples from the dataset:')\n",
    "print(X[0:3])\n",
    "print(y[0:3])"
   ]
  },
  {
   "cell_type": "code",
   "execution_count": 6,
   "metadata": {},
   "outputs": [],
   "source": [
    "# featurenomalize normalizes the features in X\n",
    "# the function returns a normalized version of X where the mean value of each\n",
    "# feature is 0 and the standard deviation is 1.\n",
    "def featureNormalize(X):\n",
    "    X_norm = np.zeros([X.shape[0],X.shape[1]])\n",
    "    mu = np.zeros([1,X.shape[1]])\n",
    "    sigma = np.zeros([1,X.shape[1]])\n",
    "    for i in range(X.shape[1]):\n",
    "        mu[0][i] = X[:,i].mean()\n",
    "        sigma[0][i] = X[:,i].std()\n",
    "        X_norm[:,i] = (X[:,i]-mu[0][i])/sigma[0][i]\n",
    "    return X_norm, mu, sigma"
   ]
  },
  {
   "cell_type": "code",
   "execution_count": 7,
   "metadata": {},
   "outputs": [],
   "source": [
    "[X_norm, mu,sigma] = featureNormalize(X)"
   ]
  },
  {
   "cell_type": "code",
   "execution_count": 8,
   "metadata": {},
   "outputs": [],
   "source": [
    "# add intercept term to X_norm\n",
    "X_norm_withones = np.append(np.ones([m,1]), X_norm, 1)"
   ]
  },
  {
   "cell_type": "markdown",
   "metadata": {},
   "source": [
    "## Gradient Descent"
   ]
  },
  {
   "cell_type": "code",
   "execution_count": 9,
   "metadata": {},
   "outputs": [],
   "source": [
    "# computeCostMulti compute cost for linear regression with multiple variables\n",
    "def computeCostMulti(X,y,theta):\n",
    "    m = len(y)\n",
    "    J = 0\n",
    "    diff = np.dot(X,theta) -y\n",
    "    J = np.dot(diff.transpose(),diff)/(2*m)\n",
    "    return J"
   ]
  },
  {
   "cell_type": "code",
   "execution_count": 10,
   "metadata": {},
   "outputs": [],
   "source": [
    "# gredientDescentMulti performs gradient descent to learn theta\n",
    "def gradientDescentMulti(X,y,theta, alpha,num_iters):\n",
    "    m = len(y)\n",
    "    n = X.shape[0]+1\n",
    "    J_history = np.zeros([num_iters,1])\n",
    "    for iter in range(num_iters):\n",
    "        D = np.dot(X,theta)-y      \n",
    "        coe = alpha/m\n",
    "        theta_temp = np.zeros([n,1])\n",
    "        theta_temp = theta - coe*np.dot(X.transpose(),D)\n",
    "        theta = theta_temp\n",
    "        J_history[iter][0] = computeCostMulti(X,y,theta)\n",
    "    return theta, J_history"
   ]
  },
  {
   "cell_type": "code",
   "execution_count": 11,
   "metadata": {},
   "outputs": [],
   "source": [
    "alpha = 0.01\n",
    "num_iters = 400\n",
    "theta = np.zeros([3,1])"
   ]
  },
  {
   "cell_type": "code",
   "execution_count": 12,
   "metadata": {},
   "outputs": [],
   "source": [
    "[theta,J_history] = gradientDescentMulti(X_norm_withones,y,theta,alpha,num_iters)"
   ]
  },
  {
   "cell_type": "code",
   "execution_count": 13,
   "metadata": {},
   "outputs": [
    {
     "data": {
      "image/png": "[encoded data removed]",
      "text/plain": [
       "<Figure size 432x288 with 1 Axes>"
      ]
     },
     "metadata": {
      "needs_background": "light"
     },
     "output_type": "display_data"
    }
   ],
   "source": [
    "# plot the convergence graph\n",
    "plt.plot(J_history,'-',color= 'blue',linewidth=2)\n",
    "plt.xlabel('Number of iterations')\n",
    "plt.ylabel('Cost J')\n",
    "plt.show()"
   ]
  },
  {
   "cell_type": "code",
   "execution_count": 14,
   "metadata": {},
   "outputs": [
    {
     "name": "stdout",
     "output_type": "stream",
     "text": [
      "Theta computed from gradient descent:\n",
      "[[334302.06399328]\n",
      " [ 99411.44947359]\n",
      " [  3267.01285407]]\n"
     ]
    }
   ],
   "source": [
    "# display gradient descent's result\n",
    "print('Theta computed from gradient descent:')\n",
    "print(theta)"
   ]
  },
  {
   "cell_type": "code",
   "execution_count": 15,
   "metadata": {},
   "outputs": [],
   "source": [
    "# Estimate the price of a 1650 sq-ft, 4br house\n",
    "u = np.zeros([1,3])\n",
    "u[0][0] = 1\n",
    "u[0][1] = (1650-mu[0][0])/sigma[0][0]\n",
    "u[0][2] = (3-mu[0][1])/sigma[0][1]\n",
    "price = np.dot(u,theta)"
   ]
  },
  {
   "cell_type": "code",
   "execution_count": 16,
   "metadata": {},
   "outputs": [
    {
     "name": "stdout",
     "output_type": "stream",
     "text": [
      "Predicted price of a 1650 sq-ft, 3 br house using gradient descent is:\n",
      " 289221.547371\n"
     ]
    }
   ],
   "source": [
    "print('Predicted price of a 1650 sq-ft, 3 br house using gradient descent is:\\n {}'.format(price[0][0]))"
   ]
  },
  {
   "cell_type": "markdown",
   "metadata": {},
   "source": [
    "## Normal Equations"
   ]
  },
  {
   "cell_type": "code",
   "execution_count": 17,
   "metadata": {},
   "outputs": [],
   "source": [
    "# normalEqn computes the closed-form solution to linear regression\n",
    "def normalEqn(X,y):\n",
    "    theta = np.zeros([X.shape[1],1])\n",
    "    theta = np.dot(np.linalg.pinv(np.dot(X.transpose(),X)),np.dot(X.transpose(),y))\n",
    "    return theta"
   ]
  },
  {
   "cell_type": "code",
   "execution_count": 18,
   "metadata": {},
   "outputs": [],
   "source": [
    "X_withones = np.append(np.ones([m,1]), X, 1)\n",
    "theta_ne = normalEqn(X_withones,y)"
   ]
  },
  {
   "cell_type": "code",
   "execution_count": 19,
   "metadata": {},
   "outputs": [
    {
     "name": "stdout",
     "output_type": "stream",
     "text": [
      "Theta computed from the normal equations:\n",
      "[[89597.90954355]\n",
      " [  139.21067402]\n",
      " [-8738.01911255]]\n"
     ]
    }
   ],
   "source": [
    "# display normal equation's result\n",
    "print('Theta computed from the normal equations:')\n",
    "print(theta_ne)"
   ]
  },
  {
   "cell_type": "code",
   "execution_count": 20,
   "metadata": {},
   "outputs": [
    {
     "name": "stdout",
     "output_type": "stream",
     "text": [
      "Predicted price of a 1650 sq-ft, 3 br house using gradient descent is:\n",
      " 293081.464335\n"
     ]
    }
   ],
   "source": [
    "# Estimate the price of a 1650 sq-ft 3 br house\n",
    "price = np.dot(np.array([1,1650,3]),theta_ne)\n",
    "print('Predicted price of a 1650 sq-ft, 3 br house using gradient descent is:\\n {}'.format(price[0]))"
   ]
  },
  {
   "cell_type": "code",
   "execution_count": null,
   "metadata": {},
   "outputs": [],
   "source": []
  }
 ],
 "metadata": {
  "kernelspec": {
   "display_name": "Python 2",
   "language": "python",
   "name": "python2"
  },
  "language_info": {
   "codemirror_mode": {
    "name": "ipython",
    "version": 2
   },
   "file_extension": ".py",
   "mimetype": "text/x-python",
   "name": "python",
   "nbconvert_exporter": "python",
   "pygments_lexer": "ipython2",
   "version": "2.7.15"
  }
 },
 "nbformat": 4,
 "nbformat_minor": 2
}

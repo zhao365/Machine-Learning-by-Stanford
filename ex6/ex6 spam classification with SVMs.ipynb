{
 "cells": [
  {
   "cell_type": "markdown",
   "metadata": {},
   "source": [
    "# Spam Classification with SVMs\n",
    "\n",
    "Many email services provide spam filters that are able to classify emails into spam and non-spam email with high accuracy. In this exercise, we will use SVMs to build a spam filter.\n",
    "\n",
    "We will be training a classfier to classify whether a given email, x, is spam. In particular, we need to convert each email into a feature vector x in R^n."
   ]
  },
  {
   "cell_type": "code",
   "execution_count": 1,
   "metadata": {},
   "outputs": [],
   "source": [
    "import numpy as np\n",
    "import re\n",
    "from string import punctuation\n",
    "from nltk.stem import PorterStemmer\n",
    "import scipy.io\n",
    "from sklearn.svm import SVC"
   ]
  },
  {
   "cell_type": "markdown",
   "metadata": {},
   "source": [
    "## Part 1: Email Preprocessing"
   ]
  },
  {
   "cell_type": "code",
   "execution_count": 2,
   "metadata": {},
   "outputs": [
    {
     "data": {
      "text/plain": [
       "\"> Anyone knows how much it costs to host a web portal ?\\n>\\nWell, it depends on how many visitors you're expecting.\\nThis can be anywhere from less than 10 bucks a month to a couple of $100. \\nYou should checkout http://www.rackspace.com/ or perhaps Amazon EC2 \\nif youre running something big..\\n\\nTo unsubscribe yourself from this mailing list, send an email to:\\ngroupname-unsubscribe@egroups.com\\n\\n\""
      ]
     },
     "execution_count": 2,
     "metadata": {},
     "output_type": "execute_result"
    }
   ],
   "source": [
    "# first look at a sample email that contains a URL, an email address, numbers, and dollar amounts\n",
    "emailSample = open('emailSample1.txt').read()\n",
    "emailSample"
   ]
  },
  {
   "cell_type": "code",
   "execution_count": 3,
   "metadata": {},
   "outputs": [],
   "source": [
    "# getVocabList() reads the fixed vocabulary list in vocab.txt and returns a dictionary \n",
    "def getVocabList():\n",
    "    vocabtext = open('vocab.txt').read()\n",
    "    vocablist = vocabtext.split('\\n')\n",
    "    vocabList = {}\n",
    "    for item in vocablist:\n",
    "        try:\n",
    "            ind_word = item.split('\\t')\n",
    "            ind = int(ind_word[0])\n",
    "            word = ind_word[1]\n",
    "            vocabList[ind] = word\n",
    "        except:\n",
    "            pass\n",
    "    return vocabList"
   ]
  },
  {
   "cell_type": "code",
   "execution_count": 4,
   "metadata": {},
   "outputs": [],
   "source": [
    "vocabList = getVocabList()"
   ]
  },
  {
   "cell_type": "code",
   "execution_count": 5,
   "metadata": {},
   "outputs": [],
   "source": [
    "# processEmail() preprocesses the body of an email and returns a list of word_indices\n",
    "def processEmail(email_contents):\n",
    "    # replace '\\n' by ' '\n",
    "    email_contents = email_contents.replace('\\n', ' ')\n",
    "    # lower case\n",
    "    email_contents = email_contents.lower()\n",
    "    # strip all html\n",
    "    email_contents = re.sub(r'<[^<>]+>', ' ', email_contents)\n",
    "    # handle numbers\n",
    "    email_contents = re.sub(r'[0-9]+', 'number', email_contents)\n",
    "    # handle urls\n",
    "    email_contents =re.sub(r'(https?://[^\\s]+)', 'httpaddr', email_contents)\n",
    "    # handle email addresses\n",
    "    email_contents =re.sub(r'[^\\s]+@[^\\s]+', 'emailaddr', email_contents)\n",
    "    # handle $ sign\n",
    "    email_contents = re.sub(r'[$]+', 'dollar ', email_contents)\n",
    "    # handle punctuation\n",
    "    email_contents = re.sub(r'[{}]'.format(punctuation), ' ', email_contents)\n",
    "    # start to find word_indices\n",
    "    words = email_contents.split()\n",
    "    word_indices = []\n",
    "    ps = PorterStemmer()\n",
    "    for word in words:\n",
    "        stem = ps.stem(word)    \n",
    "        for i in range(1,len(vocabList)+1):\n",
    "            if stem == vocabList[i]:\n",
    "                word_indices.append(i)\n",
    "    return word_indices        "
   ]
  },
  {
   "cell_type": "code",
   "execution_count": 6,
   "metadata": {},
   "outputs": [],
   "source": [
    "word_indices = processEmail(emailSample)"
   ]
  },
  {
   "cell_type": "markdown",
   "metadata": {},
   "source": [
    "## Part 2: Feature Extraction"
   ]
  },
  {
   "cell_type": "code",
   "execution_count": 7,
   "metadata": {},
   "outputs": [],
   "source": [
    "# emailFeatures() takes in a word_indices vector and produces a feature vector from the word_indices \n",
    "def emailFeatures(word_indices):\n",
    "    n = 1899\n",
    "    x =  np.zeros([n,])\n",
    "    for i in range(len(word_indices)):\n",
    "        x[word_indices[i]] = 1\n",
    "    return x"
   ]
  },
  {
   "cell_type": "code",
   "execution_count": 8,
   "metadata": {},
   "outputs": [],
   "source": [
    "features = emailFeatures(word_indices)"
   ]
  },
  {
   "cell_type": "code",
   "execution_count": 9,
   "metadata": {},
   "outputs": [
    {
     "name": "stdout",
     "output_type": "stream",
     "text": [
      "Length of feature vector: 1899\n",
      "Number of non-zero entries: 45.0\n"
     ]
    }
   ],
   "source": [
    "print('Length of feature vector: {}'.format(len(features)))\n",
    "print('Number of non-zero entries: {}'.format(sum(features)))"
   ]
  },
  {
   "cell_type": "markdown",
   "metadata": {},
   "source": [
    "## Part 3: Train Linear SVM for Spam Classification"
   ]
  },
  {
   "cell_type": "code",
   "execution_count": 10,
   "metadata": {},
   "outputs": [],
   "source": [
    "# load the spam email dataset\n",
    "spamTrain = scipy.io.loadmat('spamTrain.mat')\n",
    "X = spamTrain['X']\n",
    "y = spamTrain['y']\n",
    "y = y.reshape([len(y),])"
   ]
  },
  {
   "cell_type": "code",
   "execution_count": 11,
   "metadata": {},
   "outputs": [
    {
     "data": {
      "text/plain": [
       "SVC(C=0.1, cache_size=200, class_weight=None, coef0=0.0,\n",
       "  decision_function_shape='ovr', degree=3, gamma='auto_deprecated',\n",
       "  kernel='linear', max_iter=-1, probability=False, random_state=None,\n",
       "  shrinking=True, tol=0.001, verbose=False)"
      ]
     },
     "execution_count": 11,
     "metadata": {},
     "output_type": "execute_result"
    }
   ],
   "source": [
    "# train linear SVM with C = 0.1\n",
    "clf = SVC(C=0.1, kernel='linear') \n",
    "clf.fit(X, y) "
   ]
  },
  {
   "cell_type": "code",
   "execution_count": 12,
   "metadata": {},
   "outputs": [
    {
     "name": "stdout",
     "output_type": "stream",
     "text": [
      "Training Accuracy: 0.99825\n"
     ]
    }
   ],
   "source": [
    "predictions = clf.predict(X)\n",
    "print( 'Training Accuracy: {}'.format(np.mean(predictions== y)))"
   ]
  },
  {
   "cell_type": "markdown",
   "metadata": {},
   "source": [
    "## Part 4: Test Spam Classification"
   ]
  },
  {
   "cell_type": "code",
   "execution_count": 13,
   "metadata": {},
   "outputs": [],
   "source": [
    "# load the test dataset\n",
    "spamTest = scipy.io.loadmat('spamTest.mat')\n",
    "Xtest = spamTest['Xtest']\n",
    "ytest = spamTest['ytest']\n",
    "ytest = ytest.reshape([len(ytest),])"
   ]
  },
  {
   "cell_type": "code",
   "execution_count": 14,
   "metadata": {},
   "outputs": [
    {
     "name": "stdout",
     "output_type": "stream",
     "text": [
      "Test Accuracy: 0.989\n"
     ]
    }
   ],
   "source": [
    "print('Test Accuracy: {}'.format(np.mean(clf.predict(Xtest)== ytest)))"
   ]
  },
  {
   "cell_type": "markdown",
   "metadata": {},
   "source": [
    "## Part5: Top Predictors of Spam\n",
    "Since the model we are training is a linear SVM, we can inspect the weights learned by the model to understand better how it is determing whether an email is spam or not. The following code finds the words with the highest weights in the classifer. "
   ]
  },
  {
   "cell_type": "code",
   "execution_count": 15,
   "metadata": {},
   "outputs": [
    {
     "data": {
      "text/plain": [
       "array([ 0.00793208,  0.01563324,  0.05546492, ..., -0.08670606,\n",
       "       -0.00661274,  0.06506632])"
      ]
     },
     "execution_count": 15,
     "metadata": {},
     "output_type": "execute_result"
    }
   ],
   "source": [
    "# get weights from the model\n",
    "weights = clf.coef_[0]\n",
    "weights"
   ]
  },
  {
   "cell_type": "code",
   "execution_count": 16,
   "metadata": {},
   "outputs": [
    {
     "name": "stdout",
     "output_type": "stream",
     "text": [
      "sort weights from big to small:\n",
      "\n",
      "[ 0.50061374  0.46591639  0.42286912 ... -0.42835516 -0.43807244\n",
      " -0.60513164]\n"
     ]
    }
   ],
   "source": [
    "print('sort weights from big to small:\\n')\n",
    "print(np.sort(weights)[::-1])"
   ]
  },
  {
   "cell_type": "code",
   "execution_count": 17,
   "metadata": {},
   "outputs": [],
   "source": [
    "# get the index of weights from big to small\n",
    "id_descend = weights.argsort()[::-1]"
   ]
  },
  {
   "cell_type": "code",
   "execution_count": 18,
   "metadata": {},
   "outputs": [
    {
     "data": {
      "text/plain": [
       "0.5006137361746403"
      ]
     },
     "execution_count": 18,
     "metadata": {},
     "output_type": "execute_result"
    }
   ],
   "source": [
    "# check the first index corresponding to the biggest weight\n",
    "weights[id_descend[0]]"
   ]
  },
  {
   "cell_type": "code",
   "execution_count": 19,
   "metadata": {},
   "outputs": [
    {
     "name": "stdout",
     "output_type": "stream",
     "text": [
      "Top predictors of spam:\n",
      "our (0.500613736175)\n",
      "click (0.465916390689)\n",
      "remov (0.422869117061)\n",
      "guarante (0.383621601794)\n",
      "visit (0.367710398246)\n",
      "basenumb (0.345064097946)\n",
      "dollar (0.323632035796)\n",
      "will (0.269724106037)\n",
      "price (0.267297714618)\n",
      "pleas (0.2611688867)\n",
      "most (0.257298197952)\n",
      "nbsp (0.25394145516)\n",
      "lo (0.253466524314)\n",
      "ga (0.248296990456)\n",
      "hour (0.246404357832)\n",
      "al (0.237310668172)\n",
      "da (0.233261215232)\n",
      "se (0.23295496246)\n",
      "want (0.23194709266)\n",
      "dollarnumb (0.229639162845)\n"
     ]
    }
   ],
   "source": [
    "print('Top predictors of spam:')\n",
    "for i in range(20):\n",
    "    print(vocabList[id_descend[i]+1] + ' ({})'.format((weights[id_descend[i]])))"
   ]
  },
  {
   "cell_type": "code",
   "execution_count": null,
   "metadata": {},
   "outputs": [],
   "source": []
  }
 ],
 "metadata": {
  "kernelspec": {
   "display_name": "Python 2",
   "language": "python",
   "name": "python2"
  },
  "language_info": {
   "codemirror_mode": {
    "name": "ipython",
    "version": 2
   },
   "file_extension": ".py",
   "mimetype": "text/x-python",
   "name": "python",
   "nbconvert_exporter": "python",
   "pygments_lexer": "ipython2",
   "version": "2.7.15"
  }
 },
 "nbformat": 4,
 "nbformat_minor": 2
}

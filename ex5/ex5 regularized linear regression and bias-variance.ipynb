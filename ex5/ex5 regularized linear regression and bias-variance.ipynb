{
 "cells": [
  {
   "cell_type": "markdown",
   "metadata": {},
   "source": [
    "# Regularized Linear Regression and Bias-Variance\n",
    "\n",
    "In this exercise, we will implement regularized linear regression and use it to study models with different bias-variance properties. \n",
    "\n",
    "There are three parts:\n",
    "- Write functions to calculate regularized linear regression cost and gradient, and train linear Regression.\n",
    "- Write function to draw learning curves, which show train errors and cross validation erros. Show learning curves for previous trained linear regression model.\n",
    "- Add polynomial features, train linear model, and draw learning curves. Finally, we use cross validation to select regularization parameter lambda."
   ]
  },
  {
   "cell_type": "markdown",
   "metadata": {},
   "source": [
    "## 1. Regularized Linear Regression\n",
    "\n",
    "In the first half of the exercise, we will implement regularized linear regression to predict the amount of water flowing out of a dam using the change of water level in a reservoir. In the next half, we will go through some diagnostics of debugging learning algorithms and examine the effects of bias vs variance."
   ]
  },
  {
   "cell_type": "markdown",
   "metadata": {},
   "source": [
    "## 1.1 Loading and Visualizing Data\n",
    "\n",
    "We will begin by visualizing the dataset containing historical records on the change in the water level, x, and the amount of water flowing out of the dam, y."
   ]
  },
  {
   "cell_type": "code",
   "execution_count": 1,
   "metadata": {},
   "outputs": [],
   "source": [
    "import numpy as np\n",
    "import matplotlib.pyplot as plt\n",
    "%matplotlib inline\n",
    "\n",
    "import scipy.io\n",
    "from scipy.optimize import fmin_bfgs"
   ]
  },
  {
   "cell_type": "code",
   "execution_count": 2,
   "metadata": {},
   "outputs": [],
   "source": [
    "data = scipy.io.loadmat('ex5data1.mat')"
   ]
  },
  {
   "cell_type": "markdown",
   "metadata": {},
   "source": [
    "The dataset is divided into three parts:\n",
    "\n",
    "- A training set that our model will learn on: X, y\n",
    "- A cross validation set for determining the regularization parameter: Xval, yval\n",
    "- A test set for evaluating performance: Xtest, ytest"
   ]
  },
  {
   "cell_type": "code",
   "execution_count": 3,
   "metadata": {},
   "outputs": [],
   "source": [
    "X = data['X']\n",
    "Xtest = data['Xtest']\n",
    "Xval = data['Xval']\n",
    "y = data['y']\n",
    "ytest = data['ytest']\n",
    "yval = data['yval']\n",
    "m = X.shape[0]"
   ]
  },
  {
   "cell_type": "code",
   "execution_count": 4,
   "metadata": {},
   "outputs": [],
   "source": [
    "# in order to use fmin_bfgs and for convenience, we represent y to be a 1-d array rather than a 2-d array. \n",
    "y = y.reshape([len(y),])\n",
    "ytest = ytest.reshape([len(ytest),])\n",
    "yval = yval.reshape([len(yval),])"
   ]
  },
  {
   "cell_type": "code",
   "execution_count": 5,
   "metadata": {},
   "outputs": [
    {
     "data": {
      "image/png": "[encoded data removed]",
      "text/plain": [
       "<Figure size 432x288 with 1 Axes>"
      ]
     },
     "metadata": {
      "needs_background": "light"
     },
     "output_type": "display_data"
    }
   ],
   "source": [
    "# plot the training data\n",
    "plt.plot(X,y,'rx', markersize = 10, linewidth = 1.5)\n",
    "plt.xlabel('Change in water level (x)')\n",
    "plt.ylabel('Water flowing out of dam (y)')\n",
    "plt.show()"
   ]
  },
  {
   "cell_type": "markdown",
   "metadata": {},
   "source": [
    "In the following parts, we will implement linear regression and use that to fit a straight line to the data and plot learning curves. Following that, we will implement polynomial regression to find a better fit to the data."
   ]
  },
  {
   "cell_type": "markdown",
   "metadata": {},
   "source": [
    "## 1.2 Regularized Linear Regression Cost and Gradient"
   ]
  },
  {
   "cell_type": "code",
   "execution_count": 6,
   "metadata": {},
   "outputs": [],
   "source": [
    "# linearRegCostFunction() calculate the regularized linear regression cost function.\n",
    "def linearRegCostFunction(theta, X, y, reg_lambda):\n",
    "    m = len(y)\n",
    "    diff = np.dot(X,theta)-y\n",
    "    J = np.dot(diff.T, diff) + reg_lambda*np.dot(theta[1:].T, theta[1:])\n",
    "    J = J/float(2*m)\n",
    "    return J"
   ]
  },
  {
   "cell_type": "code",
   "execution_count": 7,
   "metadata": {},
   "outputs": [],
   "source": [
    "# linearRegGradient() calculate the gradient\n",
    "def linearRegGradient(theta, X, y, reg_lambda):\n",
    "    m = len(y)\n",
    "    diff = np.dot(X,theta)-y\n",
    "    grad = np.dot(X.T, diff)\n",
    "    grad[1:] = grad[1:] + reg_lambda * theta[1:]\n",
    "    grad = grad/float(m)\n",
    "    return grad"
   ]
  },
  {
   "cell_type": "code",
   "execution_count": 8,
   "metadata": {},
   "outputs": [
    {
     "name": "stdout",
     "output_type": "stream",
     "text": [
      "When theta is [1 1]\n",
      "Cost is 303.99319222\n",
      "Gradient is [-15.30301567 598.25074417]\n"
     ]
    }
   ],
   "source": [
    "# use above functions to calculate J and grad at a specific theta\n",
    "theta  =np.array([1,1])\n",
    "X_withones = np.append(np.ones([m,1]), X, 1)\n",
    "J = linearRegCostFunction(theta, X_withones, y, 1)\n",
    "grad = linearRegGradient(theta, X_withones, y, 1)\n",
    "print('When theta is {}'.format(theta))\n",
    "print('Cost is {}'.format(J))\n",
    "print('Gradient is {}'.format(grad))"
   ]
  },
  {
   "cell_type": "markdown",
   "metadata": {},
   "source": [
    "## 1.3 Train Linear Regression"
   ]
  },
  {
   "cell_type": "code",
   "execution_count": 9,
   "metadata": {},
   "outputs": [],
   "source": [
    "# trainLinearReg() trains linear regression given a dataset (X,y) and a regularization parameter lambda\n",
    "def trainLinearReg(X, y, reg_lambda, maxiter=50):\n",
    "    initial_theta = np.zeros([X.shape[1],])\n",
    "    theta = fmin_bfgs(linearRegCostFunction, initial_theta, fprime=linearRegGradient,args=(X,y,reg_lambda),maxiter=maxiter)\n",
    "    return theta"
   ]
  },
  {
   "cell_type": "code",
   "execution_count": 10,
   "metadata": {},
   "outputs": [
    {
     "name": "stdout",
     "output_type": "stream",
     "text": [
      "Optimization terminated successfully.\n",
      "         Current function value: 22.373906\n",
      "         Iterations: 3\n",
      "         Function evaluations: 5\n",
      "         Gradient evaluations: 5\n"
     ]
    }
   ],
   "source": [
    "# train linear regression with lambda = 0\n",
    "reg_lambda = 0\n",
    "theta = trainLinearReg(X_withones, y, reg_lambda, 50)"
   ]
  },
  {
   "cell_type": "code",
   "execution_count": 11,
   "metadata": {},
   "outputs": [
    {
     "data": {
      "image/png": "[encoded data removed]",
      "text/plain": [
       "<Figure size 432x288 with 1 Axes>"
      ]
     },
     "metadata": {
      "needs_background": "light"
     },
     "output_type": "display_data"
    }
   ],
   "source": [
    "# plot fit over the data\n",
    "plt.plot(X, y, 'rx', markersize = 10, linewidth = 1.5)\n",
    "plt.xlabel('Change in water level (x)')\n",
    "plt.ylabel('Water flowing out of the dam (y)')\n",
    "plt.plot(X, np.dot(X_withones,theta), '--', linewidth = 2)\n",
    "plt.title('linear regression')\n",
    "plt.ylim([-10,40])\n",
    "plt.show()"
   ]
  },
  {
   "cell_type": "markdown",
   "metadata": {},
   "source": [
    "## 2. Bias - variance\n",
    "\n",
    "An important concept in machine learning is the bias-variance tradeoff. Models with high bias are not complex enough for the data and tend to underfit, while models with high variance overfit to the training data.\n",
    "\n",
    "In this part of the exercise, we will plot training and test errors on a learning curve to diagnose bias-variance problems."
   ]
  },
  {
   "cell_type": "markdown",
   "metadata": {},
   "source": [
    "## 2.1 Learning Curve for Linear Regression\n",
    "\n",
    "We will now implement code to generate the learning curves that will be usefull in debugging learning algorithms. A learning curve plots training and cross validation error as a function of training set size.\n",
    "\n",
    "To plot the learning curve, we need a training and cross validation set error for different training set sizes."
   ]
  },
  {
   "cell_type": "code",
   "execution_count": 12,
   "metadata": {},
   "outputs": [],
   "source": [
    "# learningCurve() generates the train and cross validation set errors needed to plot a learning curve \n",
    "# In particular, note that the training error does not include the regularization term.\n",
    "def learningCurve(X, y, Xval, yval, reg_lambda):\n",
    "    m_X = X.shape[0]\n",
    "    m_Xval = Xval.shape[0]\n",
    "    error_train = np.zeros([m_X,])\n",
    "    error_val = np.zeros([m_X,])\n",
    "    for i in range(m_X):\n",
    "        Xtrain = X[:i+1,:]\n",
    "        train_size = Xtrain.shape[0]\n",
    "        theta = trainLinearReg(Xtrain, y[:i+1], reg_lambda)\n",
    "        d_train = np.dot(Xtrain, theta) - y[:i+1]\n",
    "        error_train[i] = np.dot(d_train.T, d_train)/float(2*(i+1))\n",
    "        d_val = np.dot(Xval, theta) - yval\n",
    "        error_val[i] = np.dot(d_val.T, d_val)/float(2*m_Xval)\n",
    "    return error_train, error_val"
   ]
  },
  {
   "cell_type": "code",
   "execution_count": 13,
   "metadata": {},
   "outputs": [
    {
     "name": "stdout",
     "output_type": "stream",
     "text": [
      "Optimization terminated successfully.\n",
      "         Current function value: 0.000000\n",
      "         Iterations: 1\n",
      "         Function evaluations: 3\n",
      "         Gradient evaluations: 3\n",
      "Optimization terminated successfully.\n",
      "         Current function value: 0.000000\n",
      "         Iterations: 3\n",
      "         Function evaluations: 6\n",
      "         Gradient evaluations: 6\n",
      "Optimization terminated successfully.\n",
      "         Current function value: 3.286595\n",
      "         Iterations: 3\n",
      "         Function evaluations: 5\n",
      "         Gradient evaluations: 5\n",
      "Optimization terminated successfully.\n",
      "         Current function value: 2.842678\n",
      "         Iterations: 5\n",
      "         Function evaluations: 6\n",
      "         Gradient evaluations: 6\n",
      "Optimization terminated successfully.\n",
      "         Current function value: 13.154049\n",
      "         Iterations: 3\n",
      "         Function evaluations: 5\n",
      "         Gradient evaluations: 5\n",
      "Optimization terminated successfully.\n",
      "         Current function value: 19.443963\n",
      "         Iterations: 3\n",
      "         Function evaluations: 5\n",
      "         Gradient evaluations: 5\n",
      "Optimization terminated successfully.\n",
      "         Current function value: 20.098522\n",
      "         Iterations: 3\n",
      "         Function evaluations: 5\n",
      "         Gradient evaluations: 5\n",
      "Optimization terminated successfully.\n",
      "         Current function value: 18.172859\n",
      "         Iterations: 3\n",
      "         Function evaluations: 5\n",
      "         Gradient evaluations: 5\n",
      "Optimization terminated successfully.\n",
      "         Current function value: 22.609405\n",
      "         Iterations: 3\n",
      "         Function evaluations: 5\n",
      "         Gradient evaluations: 5\n",
      "Optimization terminated successfully.\n",
      "         Current function value: 23.261462\n",
      "         Iterations: 3\n",
      "         Function evaluations: 5\n",
      "         Gradient evaluations: 5\n",
      "Optimization terminated successfully.\n",
      "         Current function value: 24.317250\n",
      "         Iterations: 3\n",
      "         Function evaluations: 5\n",
      "         Gradient evaluations: 5\n",
      "Optimization terminated successfully.\n",
      "         Current function value: 22.373906\n",
      "         Iterations: 3\n",
      "         Function evaluations: 5\n",
      "         Gradient evaluations: 5\n"
     ]
    }
   ],
   "source": [
    "# set lambda to be 0 and calculate train errors and cross validation errors.\n",
    "reg_lambda = 0\n",
    "Xval_withones = np.append(np.ones([Xval.shape[0],1]), Xval, 1)\n",
    "error_train, error_val = learningCurve(X_withones, y, Xval_withones, yval, reg_lambda)"
   ]
  },
  {
   "cell_type": "code",
   "execution_count": 14,
   "metadata": {},
   "outputs": [
    {
     "data": {
      "image/png": "[encoded data removed]",
      "text/plain": [
       "<Figure size 432x288 with 1 Axes>"
      ]
     },
     "metadata": {
      "needs_background": "light"
     },
     "output_type": "display_data"
    }
   ],
   "source": [
    "# plot learning curve for linear regression\n",
    "plt.plot(range(m),error_train)\n",
    "plt.plot(range(m),error_val)\n",
    "plt.title('Learning Curve for linear Regression')\n",
    "plt.legend(['Train','Cross Validation'])\n",
    "plt.xlabel('Number of training examples')\n",
    "plt.ylabel('Error')\n",
    "plt.show()"
   ]
  },
  {
   "cell_type": "markdown",
   "metadata": {},
   "source": [
    "In the above figure, we can observe that both the train error and cross validation error are high when the number of training examples is increased. This reflects a high bias problem in the model- the linear regression model is too simple and is unable to fit our dataset weill. In the next section, we will implement polynomial regression to fit a better model for this dataset."
   ]
  },
  {
   "cell_type": "code",
   "execution_count": 15,
   "metadata": {},
   "outputs": [
    {
     "name": "stdout",
     "output_type": "stream",
     "text": [
      "Training Examples | Train Error | Cross Validation Error\n",
      "0 | 3.94430452611e-31 | 205.121095745\n",
      "1 | 4.93038065763e-32 | 110.300366108\n",
      "2 | 3.2865950455 | 45.0102313786\n",
      "3 | 2.8426776894 | 48.3689098704\n",
      "4 | 13.1540488091 | 35.8651647503\n",
      "5 | 19.4439625125 | 33.8299615971\n",
      "6 | 20.0985216551 | 31.9709857982\n",
      "7 | 18.1728586952 | 30.8624463238\n",
      "8 | 22.609405425 | 31.135997955\n",
      "9 | 23.2614615926 | 28.9362074683\n",
      "10 | 24.317249588 | 29.551431622\n",
      "11 | 22.3739064951 | 29.4338181299\n"
     ]
    }
   ],
   "source": [
    "print('Training Examples | Train Error | Cross Validation Error')\n",
    "for i in range(m):\n",
    "    print('{} | {} | {}'.format(i, error_train[i], error_val[i]))"
   ]
  },
  {
   "cell_type": "markdown",
   "metadata": {},
   "source": [
    "## 3. Polynomial regression\n",
    "\n",
    "The problem with our linear model was that it was too simple for the data and resulted in underfitting (high bias). In this part of the exerceise, we will address this problem by adding more features."
   ]
  },
  {
   "cell_type": "markdown",
   "metadata": {},
   "source": [
    "## 3.1 Feature Mapping for Polynomial Regression\n",
    "\n",
    "We will add more features using the higher powers of the existing feature x in the dataset. "
   ]
  },
  {
   "cell_type": "code",
   "execution_count": 16,
   "metadata": {},
   "outputs": [],
   "source": [
    "# polyFeatures() maps X (1D vector) into the p-th power\n",
    "def polyFeatures(X,p):\n",
    "    m = X.shape[0]\n",
    "    X = X.reshape([m,])\n",
    "    X_poly = np.zeros([m,p])\n",
    "    X_poly[:,0] = X\n",
    "    for i in range(1,p):\n",
    "        X_poly[:,i] = X_poly[:,i-1]*X\n",
    "    return X_poly"
   ]
  },
  {
   "cell_type": "code",
   "execution_count": 17,
   "metadata": {},
   "outputs": [],
   "source": [
    "# featureNormalize() normalizes the features in X. \n",
    "# It returns a normalized version of X where the mean value of each feature is 0 and the standard deviation is 1.\n",
    "def featureNormalize(X):\n",
    "    mu = np.mean(X,0)\n",
    "    sigma = np.std(X, 0, ddof = 1)\n",
    "    X_norm = np.zeros([X.shape[0], X.shape[1]])\n",
    "    X_norm = (X-mu)/sigma\n",
    "    return X_norm, mu, sigma"
   ]
  },
  {
   "cell_type": "code",
   "execution_count": 18,
   "metadata": {},
   "outputs": [],
   "source": [
    "# choose p=8 and map X onto polynomial features and normalize\n",
    "p = 8\n",
    "X_poly = polyFeatures(X,p)\n",
    "X_poly, mu, sigma = featureNormalize(X_poly)\n",
    "X_poly = np.append(np.ones([m,1]), X_poly, 1)"
   ]
  },
  {
   "cell_type": "code",
   "execution_count": 19,
   "metadata": {},
   "outputs": [],
   "source": [
    "#  Map X_poly_val and normalize (using mu and sigma)\n",
    "X_poly_val = polyFeatures(Xval,p)\n",
    "X_poly_val = (X_poly_val - mu)/sigma\n",
    "X_poly_val = np.append(np.ones([X_poly_val.shape[0],1]), X_poly_val, 1)"
   ]
  },
  {
   "cell_type": "code",
   "execution_count": 20,
   "metadata": {},
   "outputs": [],
   "source": [
    "# Map X_poly_test and normalize (using mu and sigma)\n",
    "X_poly_test = polyFeatures(Xtest, p)\n",
    "X_poly_test = (X_poly_test - mu)/sigma\n",
    "X_poly_test = np.append(np.ones([X_poly_test.shape[0],1]), X_poly_test,1)"
   ]
  },
  {
   "cell_type": "code",
   "execution_count": 21,
   "metadata": {},
   "outputs": [
    {
     "name": "stdout",
     "output_type": "stream",
     "text": [
      "Normalized Traing Example 1:\n",
      "[ 1.         -0.36214078 -0.75508669  0.18222588 -0.70618991  0.30661792\n",
      " -0.59087767  0.3445158  -0.50848117]\n"
     ]
    }
   ],
   "source": [
    "print('Normalized Traing Example 1:')\n",
    "print(X_poly[0,:])"
   ]
  },
  {
   "cell_type": "markdown",
   "metadata": {},
   "source": [
    "## 3.2 Learning Curve for Polynomail Regression\n",
    "\n",
    "We will proceed to train polynomial regression using linar regression cost function. Even though we have polynomial terms in our feature vector, we are still solving a linear regression optimization problem."
   ]
  },
  {
   "cell_type": "code",
   "execution_count": 22,
   "metadata": {},
   "outputs": [],
   "source": [
    "def plotFit(min_x, max_x, mu, sigma, theta, p, X, y):\n",
    "    plt.plot(X,y,'rx', markersize = 10, linewidth = 1.5)\n",
    "    x = np.arange(min_x - 15, max_x + 15, 0.05)\n",
    "    x = x.T\n",
    "    x_poly = polyFeatures(x,p)\n",
    "    x_poly = (x_poly - mu) / sigma\n",
    "    x_poly = np.append(np.ones([x_poly.shape[0],1]), x_poly, 1)\n",
    "    plt.plot(x, np.dot(x_poly, theta), '--', linewidth  =2)\n",
    "    plt.show()"
   ]
  },
  {
   "cell_type": "code",
   "execution_count": 23,
   "metadata": {},
   "outputs": [
    {
     "name": "stdout",
     "output_type": "stream",
     "text": [
      "Warning: Maximum number of iterations has been exceeded.\n",
      "         Current function value: 0.133546\n",
      "         Iterations: 50\n",
      "         Function evaluations: 51\n",
      "         Gradient evaluations: 51\n"
     ]
    },
    {
     "data": {
      "image/png": "[encoded data removed]",
      "text/plain": [
       "<Figure size 432x288 with 1 Axes>"
      ]
     },
     "metadata": {
      "needs_background": "light"
     },
     "output_type": "display_data"
    }
   ],
   "source": [
    "reg_lambda = 0\n",
    "theta = trainLinearReg(X_poly, y, reg_lambda)\n",
    "plotFit(np.min(X), np.max(X), mu, sigma, theta, p, X, y)"
   ]
  },
  {
   "cell_type": "markdown",
   "metadata": {},
   "source": [
    "when lambda = 0 , we see that the polynomail fit is able to follow the datapoints very well. However, the polynomial fit is very complex and even drops off at the extremes. This is an indicator that the polynomail regression model is overfiting the training data and will not generalize well."
   ]
  },
  {
   "cell_type": "code",
   "execution_count": 24,
   "metadata": {},
   "outputs": [
    {
     "name": "stdout",
     "output_type": "stream",
     "text": [
      "Optimization terminated successfully.\n",
      "         Current function value: 0.000000\n",
      "         Iterations: 2\n",
      "         Function evaluations: 3\n",
      "         Gradient evaluations: 3\n",
      "Optimization terminated successfully.\n",
      "         Current function value: 0.000000\n",
      "         Iterations: 7\n",
      "         Function evaluations: 8\n",
      "         Gradient evaluations: 8\n",
      "Optimization terminated successfully.\n",
      "         Current function value: 0.000000\n",
      "         Iterations: 8\n",
      "         Function evaluations: 10\n",
      "         Gradient evaluations: 10\n",
      "Optimization terminated successfully.\n",
      "         Current function value: 0.000000\n",
      "         Iterations: 15\n",
      "         Function evaluations: 18\n",
      "         Gradient evaluations: 18\n",
      "Optimization terminated successfully.\n",
      "         Current function value: 0.000000\n",
      "         Iterations: 23\n",
      "         Function evaluations: 25\n",
      "         Gradient evaluations: 25\n",
      "Optimization terminated successfully.\n",
      "         Current function value: 0.000000\n",
      "         Iterations: 36\n",
      "         Function evaluations: 37\n",
      "         Gradient evaluations: 37\n",
      "Optimization terminated successfully.\n",
      "         Current function value: 0.000000\n",
      "         Iterations: 46\n",
      "         Function evaluations: 47\n",
      "         Gradient evaluations: 47\n",
      "Warning: Maximum number of iterations has been exceeded.\n",
      "         Current function value: 0.068686\n",
      "         Iterations: 50\n",
      "         Function evaluations: 51\n",
      "         Gradient evaluations: 51\n",
      "Warning: Maximum number of iterations has been exceeded.\n",
      "         Current function value: 0.147264\n",
      "         Iterations: 50\n",
      "         Function evaluations: 51\n",
      "         Gradient evaluations: 51\n",
      "Warning: Maximum number of iterations has been exceeded.\n",
      "         Current function value: 0.135327\n",
      "         Iterations: 50\n",
      "         Function evaluations: 51\n",
      "         Gradient evaluations: 51\n",
      "Warning: Maximum number of iterations has been exceeded.\n",
      "         Current function value: 0.138723\n",
      "         Iterations: 50\n",
      "         Function evaluations: 51\n",
      "         Gradient evaluations: 51\n",
      "Warning: Maximum number of iterations has been exceeded.\n",
      "         Current function value: 0.133546\n",
      "         Iterations: 50\n",
      "         Function evaluations: 51\n",
      "         Gradient evaluations: 51\n"
     ]
    }
   ],
   "source": [
    "error_train, error_val = learningCurve(X_poly, y, X_poly_val, yval, reg_lambda)"
   ]
  },
  {
   "cell_type": "code",
   "execution_count": 25,
   "metadata": {},
   "outputs": [
    {
     "data": {
      "image/png": "[encoded data removed]",
      "text/plain": [
       "<Figure size 432x288 with 1 Axes>"
      ]
     },
     "metadata": {
      "needs_background": "light"
     },
     "output_type": "display_data"
    }
   ],
   "source": [
    "plt.plot(range(m),error_train)\n",
    "plt.plot(range(m),error_val)\n",
    "plt.title('Polynomial Regression Learning Curve (lambda = {})'.format(reg_lambda))\n",
    "plt.legend(['Train','Cross Validation'])\n",
    "plt.xlabel('Number of training examples')\n",
    "plt.ylabel('Error')\n",
    "plt.show()"
   ]
  },
  {
   "cell_type": "markdown",
   "metadata": {},
   "source": [
    "## 3.3 Adjusting the regularization parameter\n",
    "\n",
    "One way to combat the overfitting problem is to add regularization to the model. Next we try lambda = 3 and lambda = 100."
   ]
  },
  {
   "cell_type": "markdown",
   "metadata": {},
   "source": [
    "### lambda = 3"
   ]
  },
  {
   "cell_type": "code",
   "execution_count": 26,
   "metadata": {},
   "outputs": [
    {
     "name": "stdout",
     "output_type": "stream",
     "text": [
      "Optimization terminated successfully.\n",
      "         Current function value: 15.867688\n",
      "         Iterations: 15\n",
      "         Function evaluations: 16\n",
      "         Gradient evaluations: 16\n"
     ]
    },
    {
     "data": {
      "image/png": "[encoded data removed]",
      "text/plain": [
       "<Figure size 432x288 with 1 Axes>"
      ]
     },
     "metadata": {
      "needs_background": "light"
     },
     "output_type": "display_data"
    }
   ],
   "source": [
    "reg_lambda = 3\n",
    "theta = trainLinearReg(X_poly, y, reg_lambda)\n",
    "plotFit(np.min(X), np.max(X), mu, sigma, theta, p, X, y)"
   ]
  },
  {
   "cell_type": "code",
   "execution_count": 27,
   "metadata": {},
   "outputs": [
    {
     "name": "stdout",
     "output_type": "stream",
     "text": [
      "Optimization terminated successfully.\n",
      "         Current function value: 0.000000\n",
      "         Iterations: 6\n",
      "         Function evaluations: 7\n",
      "         Gradient evaluations: 7\n",
      "Optimization terminated successfully.\n",
      "         Current function value: 0.096527\n",
      "         Iterations: 7\n",
      "         Function evaluations: 8\n",
      "         Gradient evaluations: 8\n",
      "Optimization terminated successfully.\n",
      "         Current function value: 42.276062\n",
      "         Iterations: 11\n",
      "         Function evaluations: 12\n",
      "         Gradient evaluations: 12\n",
      "Optimization terminated successfully.\n",
      "         Current function value: 36.339042\n",
      "         Iterations: 8\n",
      "         Function evaluations: 10\n",
      "         Gradient evaluations: 10\n",
      "Optimization terminated successfully.\n",
      "         Current function value: 29.096616\n",
      "         Iterations: 9\n",
      "         Function evaluations: 10\n",
      "         Gradient evaluations: 10\n",
      "Optimization terminated successfully.\n",
      "         Current function value: 25.786542\n",
      "         Iterations: 11\n",
      "         Function evaluations: 12\n",
      "         Gradient evaluations: 12\n",
      "Optimization terminated successfully.\n",
      "         Current function value: 22.692550\n",
      "         Iterations: 13\n",
      "         Function evaluations: 14\n",
      "         Gradient evaluations: 14\n",
      "Optimization terminated successfully.\n",
      "         Current function value: 19.920165\n",
      "         Iterations: 13\n",
      "         Function evaluations: 14\n",
      "         Gradient evaluations: 14\n",
      "Optimization terminated successfully.\n",
      "         Current function value: 18.514901\n",
      "         Iterations: 11\n",
      "         Function evaluations: 12\n",
      "         Gradient evaluations: 12\n",
      "Optimization terminated successfully.\n",
      "         Current function value: 16.685876\n",
      "         Iterations: 14\n",
      "         Function evaluations: 15\n",
      "         Gradient evaluations: 15\n",
      "Optimization terminated successfully.\n",
      "         Current function value: 15.193058\n",
      "         Iterations: 13\n",
      "         Function evaluations: 14\n",
      "         Gradient evaluations: 14\n",
      "Optimization terminated successfully.\n",
      "         Current function value: 15.867688\n",
      "         Iterations: 15\n",
      "         Function evaluations: 16\n",
      "         Gradient evaluations: 16\n"
     ]
    }
   ],
   "source": [
    "error_train, error_val = learningCurve(X_poly, y, X_poly_val, yval, reg_lambda)"
   ]
  },
  {
   "cell_type": "code",
   "execution_count": 28,
   "metadata": {},
   "outputs": [
    {
     "data": {
      "image/png": "[encoded data removed]",
      "text/plain": [
       "<Figure size 432x288 with 1 Axes>"
      ]
     },
     "metadata": {
      "needs_background": "light"
     },
     "output_type": "display_data"
    }
   ],
   "source": [
    "plt.plot(range(m),error_train)\n",
    "plt.plot(range(m),error_val)\n",
    "plt.title('Polynomial Regression Learning Curve (lambda = {})'.format(reg_lambda))\n",
    "plt.legend(['Train','Cross Validation'])\n",
    "plt.xlabel('Number of training examples')\n",
    "plt.ylabel('Error')\n",
    "plt.show()"
   ]
  },
  {
   "cell_type": "markdown",
   "metadata": {},
   "source": [
    "For lambda = 3, we see a polynomial fit that follows the data trend well and a learning curve showing thta both the cross validation and training error converge to a relatively low value. This shows lambda =3 regularized polynomial regression model does not have the high-bias or high-variance problems. In effect, it achieves a good trade-off between bias and variance."
   ]
  },
  {
   "cell_type": "code",
   "execution_count": 29,
   "metadata": {},
   "outputs": [
    {
     "name": "stdout",
     "output_type": "stream",
     "text": [
      "Polynomial Regression (lambda = 3)\n",
      "Training Examples | Train Error | Cross Validation Error\n",
      "0 | 6.89114212462e-13 | 138.846745774\n",
      "1 | 0.0807038203157 | 143.808122913\n",
      "2 | 15.0628244415 | 6.66072983841\n",
      "3 | 9.16804131385 | 4.32251607537\n",
      "4 | 7.26577709911 | 4.5110166478\n",
      "5 | 5.74844087177 | 4.86181511959\n",
      "6 | 5.78267388937 | 4.23010304651\n",
      "7 | 4.87950945986 | 4.3606201825\n",
      "8 | 4.64137501305 | 4.79286195219\n",
      "9 | 4.23223772218 | 4.68422136639\n",
      "10 | 3.82054296081 | 4.80769556479\n",
      "11 | 4.90135241563 | 3.82290712749\n"
     ]
    }
   ],
   "source": [
    "print('Polynomial Regression (lambda = {})'.format(reg_lambda))\n",
    "print('Training Examples | Train Error | Cross Validation Error')\n",
    "for i in range(m):\n",
    "    print('{} | {} | {}'.format(i, error_train[i], error_val[i]))"
   ]
  },
  {
   "cell_type": "markdown",
   "metadata": {},
   "source": [
    "### lambda = 100"
   ]
  },
  {
   "cell_type": "code",
   "execution_count": 30,
   "metadata": {},
   "outputs": [
    {
     "name": "stdout",
     "output_type": "stream",
     "text": [
      "Optimization terminated successfully.\n",
      "         Current function value: 66.733161\n",
      "         Iterations: 11\n",
      "         Function evaluations: 15\n",
      "         Gradient evaluations: 15\n"
     ]
    },
    {
     "data": {
      "image/png": "[encoded data removed]",
      "text/plain": [
       "<Figure size 432x288 with 1 Axes>"
      ]
     },
     "metadata": {
      "needs_background": "light"
     },
     "output_type": "display_data"
    }
   ],
   "source": [
    "reg_lambda = 100\n",
    "theta = trainLinearReg(X_poly, y, reg_lambda)\n",
    "plotFit(np.min(X), np.max(X), mu, sigma, theta, p, X, y)"
   ]
  },
  {
   "cell_type": "code",
   "execution_count": 31,
   "metadata": {},
   "outputs": [
    {
     "name": "stdout",
     "output_type": "stream",
     "text": [
      "Optimization terminated successfully.\n",
      "         Current function value: 0.000000\n",
      "         Iterations: 4\n",
      "         Function evaluations: 7\n",
      "         Gradient evaluations: 7\n",
      "Optimization terminated successfully.\n",
      "         Current function value: 0.114778\n",
      "         Iterations: 7\n",
      "         Function evaluations: 10\n",
      "         Gradient evaluations: 10\n",
      "Optimization terminated successfully.\n",
      "         Current function value: 112.782289\n",
      "         Iterations: 8\n",
      "         Function evaluations: 10\n",
      "         Gradient evaluations: 10\n",
      "Optimization terminated successfully.\n",
      "         Current function value: 132.620323\n",
      "         Iterations: 10\n",
      "         Function evaluations: 14\n",
      "         Gradient evaluations: 14\n",
      "Optimization terminated successfully.\n",
      "         Current function value: 117.349131\n",
      "         Iterations: 12\n",
      "         Function evaluations: 14\n",
      "         Gradient evaluations: 14\n",
      "Optimization terminated successfully.\n",
      "         Current function value: 109.921330\n",
      "         Iterations: 13\n",
      "         Function evaluations: 16\n",
      "         Gradient evaluations: 16\n",
      "Optimization terminated successfully.\n",
      "         Current function value: 94.278479\n",
      "         Iterations: 10\n",
      "         Function evaluations: 14\n",
      "         Gradient evaluations: 14\n",
      "Optimization terminated successfully.\n",
      "         Current function value: 87.319064\n",
      "         Iterations: 10\n",
      "         Function evaluations: 14\n",
      "         Gradient evaluations: 14\n",
      "Optimization terminated successfully.\n",
      "         Current function value: 81.084312\n",
      "         Iterations: 10\n",
      "         Function evaluations: 14\n",
      "         Gradient evaluations: 14\n",
      "Optimization terminated successfully.\n",
      "         Current function value: 73.915543\n",
      "         Iterations: 10\n",
      "         Function evaluations: 14\n",
      "         Gradient evaluations: 14\n",
      "Optimization terminated successfully.\n",
      "         Current function value: 67.658064\n",
      "         Iterations: 10\n",
      "         Function evaluations: 14\n",
      "         Gradient evaluations: 14\n",
      "Optimization terminated successfully.\n",
      "         Current function value: 66.733161\n",
      "         Iterations: 11\n",
      "         Function evaluations: 15\n",
      "         Gradient evaluations: 15\n"
     ]
    }
   ],
   "source": [
    "error_train, error_val = learningCurve(X_poly, y, X_poly_val, yval, reg_lambda)"
   ]
  },
  {
   "cell_type": "code",
   "execution_count": 32,
   "metadata": {},
   "outputs": [
    {
     "data": {
      "image/png": "[encoded data removed]",
      "text/plain": [
       "<Figure size 432x288 with 1 Axes>"
      ]
     },
     "metadata": {
      "needs_background": "light"
     },
     "output_type": "display_data"
    }
   ],
   "source": [
    "plt.plot(range(m),error_train)\n",
    "plt.plot(range(m),error_val)\n",
    "plt.title('Polynomial Regression Learning Curve (lambda = {})'.format(reg_lambda))\n",
    "plt.legend(['Train','Cross Validation'])\n",
    "plt.xlabel('Number of training examples')\n",
    "plt.ylabel('Error')\n",
    "plt.show()"
   ]
  },
  {
   "cell_type": "markdown",
   "metadata": {},
   "source": [
    "For lambda = 100, we see a polynomial fit that does not follow the data well. In this case, there is too much regularization and the model is unable to fit the training data."
   ]
  },
  {
   "cell_type": "markdown",
   "metadata": {},
   "source": [
    "## 3.4 Selecting lambda using a cross validation set\n",
    "\n",
    "From the previous parts of the exercise, we observed that the value of lambda can significantly affect the result of regularized polynomial regression on the training and cross validation set. In particular, a model without regularization (lambda = 0) fits the training set well, but does not generalize. Conversely, a model with too much regularization (lambda = 100) does not fit the training set and testing set well.\n",
    "\n",
    "In this section, we will implement an automated method to select the lambda parameter. We will use a cross validation set to evaluate how good each lambda value is. After selecting the best lambda value using the cross validation set, we can then evaluate the model on the test set to estimate how well the model will perform on actual unseen data."
   ]
  },
  {
   "cell_type": "code",
   "execution_count": 33,
   "metadata": {},
   "outputs": [],
   "source": [
    "# validationCurve() generate the train and validation errors needed to plot\n",
    "# a validation curve that we can use to select lamnda\n",
    "def validationCurve(X, y, Xval, yval):\n",
    "    lambda_vec = np.array([0, 0.001, 0.003, 0.01, 0.03, 0.1, 0.3, 1, 3, 10])\n",
    "    error_train = np.zeros([len(lambda_vec),1])\n",
    "    error_val = np.zeros([len(lambda_vec),1])\n",
    "    for i in range(len(lambda_vec)):\n",
    "        reg_lambda = lambda_vec[i]\n",
    "        theta = trainLinearReg(X, y, reg_lambda, 100)\n",
    "        d_train = np.dot(X, theta) - y\n",
    "        error_train[i] = np.dot(d_train.T, d_train)/float(2*(X.shape[0]))\n",
    "        d_val = np.dot(Xval, theta) - yval\n",
    "        error_val[i] = np.dot(d_val.T, d_val)/float(2*Xval.shape[0])\n",
    "    return lambda_vec, error_train, error_val"
   ]
  },
  {
   "cell_type": "code",
   "execution_count": 34,
   "metadata": {},
   "outputs": [
    {
     "name": "stdout",
     "output_type": "stream",
     "text": [
      "Optimization terminated successfully.\n",
      "         Current function value: 0.028891\n",
      "         Iterations: 78\n",
      "         Function evaluations: 79\n",
      "         Gradient evaluations: 79\n",
      "Optimization terminated successfully.\n",
      "         Current function value: 0.174792\n",
      "         Iterations: 71\n",
      "         Function evaluations: 72\n",
      "         Gradient evaluations: 72\n",
      "Optimization terminated successfully.\n",
      "         Current function value: 0.249933\n",
      "         Iterations: 65\n",
      "         Function evaluations: 67\n",
      "         Gradient evaluations: 67\n",
      "Optimization terminated successfully.\n",
      "         Current function value: 0.385063\n",
      "         Iterations: 50\n",
      "         Function evaluations: 51\n",
      "         Gradient evaluations: 51\n",
      "Optimization terminated successfully.\n",
      "         Current function value: 0.669275\n",
      "         Iterations: 46\n",
      "         Function evaluations: 47\n",
      "         Gradient evaluations: 47\n",
      "Optimization terminated successfully.\n",
      "         Current function value: 1.443470\n",
      "         Iterations: 40\n",
      "         Function evaluations: 41\n",
      "         Gradient evaluations: 41\n",
      "Optimization terminated successfully.\n",
      "         Current function value: 3.101591\n",
      "         Iterations: 27\n",
      "         Function evaluations: 28\n",
      "         Gradient evaluations: 28\n",
      "Optimization terminated successfully.\n",
      "         Current function value: 7.268148\n",
      "         Iterations: 21\n",
      "         Function evaluations: 22\n",
      "         Gradient evaluations: 22\n",
      "Optimization terminated successfully.\n",
      "         Current function value: 15.867688\n",
      "         Iterations: 15\n",
      "         Function evaluations: 16\n",
      "         Gradient evaluations: 16\n",
      "Optimization terminated successfully.\n",
      "         Current function value: 33.372203\n",
      "         Iterations: 8\n",
      "         Function evaluations: 9\n",
      "         Gradient evaluations: 9\n"
     ]
    }
   ],
   "source": [
    "# calculate train erros and validation errors using different lambda\n",
    "lambda_vec, error_train, error_val = validationCurve(X_poly, y, X_poly_val, yval)"
   ]
  },
  {
   "cell_type": "code",
   "execution_count": 35,
   "metadata": {},
   "outputs": [
    {
     "name": "stdout",
     "output_type": "stream",
     "text": [
      "lambda | Train Error | Cross Validation Error\n",
      "0.0 | [0.02889073] | [54.15983755]\n",
      "0.001 | [0.11269185] | [9.83620023]\n",
      "0.003 | [0.17096228] | [16.29604612]\n",
      "0.01 | [0.2214933] | [16.94849372]\n",
      "0.03 | [0.28184916] | [12.82773536]\n",
      "0.1 | [0.45931986] | [7.58683076]\n",
      "0.3 | [0.92176235] | [4.63683312]\n",
      "1.0 | [2.07618825] | [4.26063466]\n",
      "3.0 | [4.90135242] | [3.82290713]\n",
      "10.0 | [16.09220728] | [9.94550321]\n"
     ]
    }
   ],
   "source": [
    "print('lambda | Train Error | Cross Validation Error')\n",
    "for i in range(len(lambda_vec)):\n",
    "    print('{} | {} | {}'.format(lambda_vec[i], error_train[i], error_val[i]))"
   ]
  },
  {
   "cell_type": "code",
   "execution_count": 36,
   "metadata": {},
   "outputs": [
    {
     "data": {
      "image/png": "[encoded data removed]",
      "text/plain": [
       "<Figure size 432x288 with 1 Axes>"
      ]
     },
     "metadata": {
      "needs_background": "light"
     },
     "output_type": "display_data"
    }
   ],
   "source": [
    "plt.plot(lambda_vec, error_train)\n",
    "plt.plot(lambda_vec, error_val)\n",
    "plt.legend(['Train','Cross Validation'])\n",
    "plt.xlabel('lambda')\n",
    "plt.ylabel('Error')\n",
    "plt.title('Validation for selecting lambda')\n",
    "plt.show()"
   ]
  },
  {
   "cell_type": "markdown",
   "metadata": {},
   "source": [
    "In the above figure, we can see that the best value of lamnda is around 3."
   ]
  }
 ],
 "metadata": {
  "kernelspec": {
   "display_name": "Python 2",
   "language": "python",
   "name": "python2"
  },
  "language_info": {
   "codemirror_mode": {
    "name": "ipython",
    "version": 2
   },
   "file_extension": ".py",
   "mimetype": "text/x-python",
   "name": "python",
   "nbconvert_exporter": "python",
   "pygments_lexer": "ipython2",
   "version": "2.7.15"
  }
 },
 "nbformat": 4,
 "nbformat_minor": 2
}
